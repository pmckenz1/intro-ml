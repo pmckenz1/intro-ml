{
 "cells": [
  {
   "cell_type": "code",
   "execution_count": 58,
   "metadata": {},
   "outputs": [],
   "source": [
    "import h5py\n",
    "import simcat\n",
    "import numpy as np\n",
    "import tensorflow as tf\n",
    "from numba import jit\n",
    "import toytree\n",
    "from copy import deepcopy"
   ]
  },
  {
   "cell_type": "markdown",
   "metadata": {},
   "source": [
    "Define some basic functions:"
   ]
  },
  {
   "cell_type": "code",
   "execution_count": 56,
   "metadata": {},
   "outputs": [],
   "source": [
    "# sample new nodes\n",
    "def _node_slider(tree):\n",
    "        ctree = deepcopy(tree)\n",
    "        for node in ctree.tree.traverse():\n",
    "\n",
    "            ## slide internal nodes \n",
    "            if node.up and node.children:\n",
    "\n",
    "                ## get min and max slides\n",
    "                minjit = max([i.dist for i in node.children]) * 0.99\n",
    "                maxjit = (node.up.height * 0.99) - node.height\n",
    "                newheight = np.random.uniform(low=-minjit, high=maxjit)\n",
    "\n",
    "                ## slide children\n",
    "                for child in node.children:\n",
    "                    child.dist += newheight\n",
    "\n",
    "                ## slide self to match\n",
    "                node.dist -= newheight\n",
    "\n",
    "        ## make max height = 1\n",
    "        mod = ctree.tree.height\n",
    "        for node in ctree.tree.traverse():\n",
    "            node.dist = node.dist / float(mod)\n",
    "\n",
    "        return ctree\n",
    "\n",
    "# find all possible admixture edges on the tree\n",
    "def get_all_admix_edges(ttree):\n",
    "\n",
    "    ## for all nodes map the potential admixture interval\n",
    "    for snode in ttree.tree.traverse():\n",
    "        if snode.is_root():\n",
    "            snode.interval = (None, None)\n",
    "        else:\n",
    "            snode.interval = (snode.height, snode.up.height)\n",
    "\n",
    "    ## for all nodes find overlapping intervals\n",
    "    intervals = {}\n",
    "    for snode in ttree.tree.traverse():\n",
    "        for dnode in ttree.tree.traverse():\n",
    "            if not any([snode.is_root(), dnode.is_root(), dnode == snode]):\n",
    "                ## check for overlap\n",
    "                smin, smax = snode.interval\n",
    "                dmin, dmax = dnode.interval\n",
    "\n",
    "                ## find if nodes have interval where admixture can occur\n",
    "                low_bin = np.max([smin, dmin])\n",
    "                top_bin = np.min([smax, dmax])\n",
    "                if top_bin > low_bin:\n",
    "                    intervals[(snode.idx, dnode.idx)] = (low_bin, top_bin)\n",
    "    return intervals"
   ]
  },
  {
   "cell_type": "markdown",
   "metadata": {},
   "source": [
    "# Create a 5-tip topology"
   ]
  },
  {
   "cell_type": "code",
   "execution_count": 35,
   "metadata": {},
   "outputs": [
    {
     "data": {
      "text/html": [
       "<div class=\"toyplot\" id=\"t491213535ce44210943879bfdd399f3a\" style=\"text-align:center\"><svg class=\"toyplot-canvas-Canvas\" height=\"225.0px\" id=\"t4abbf4ebc57143b49fbcc0d1fe27678b\" preserveAspectRatio=\"xMidYMid meet\" style=\"background-color:transparent;fill:rgb(16.1%,15.3%,14.1%);fill-opacity:1.0;font-family:Helvetica;font-size:12px;opacity:1.0;stroke:rgb(16.1%,15.3%,14.1%);stroke-opacity:1.0;stroke-width:1.0\" viewBox=\"0 0 275.0 225.0\" width=\"275.0px\" xmlns=\"http://www.w3.org/2000/svg\" xmlns:toyplot=\"http://www.sandia.gov/toyplot\" xmlns:xlink=\"http://www.w3.org/1999/xlink\"><g class=\"toyplot-coordinates-Cartesian\" id=\"tc5a519837e3b4c6ea47a5e2ca8094738\"><clipPath id=\"t96a5756eca324fd69b8a725da45333a7\"><rect height=\"165.0\" width=\"215.0\" x=\"30.0\" y=\"30.0\"></rect></clipPath><g clip-path=\"url(#t96a5756eca324fd69b8a725da45333a7)\"><g class=\"toyplot-mark-Text\" id=\"t002f0d6e47cf4d618be4909cef6d76e2\"><g class=\"toyplot-Series\"></g></g><g class=\"toyplot-mark-Graph\" id=\"t03e11422e3f342d9a958dc14dc5b8896\"><g class=\"toyplot-Edges\"><path d=\"M 203.125 112.5 L 225.0 175.0\" style=\"fill:none;stroke:rgb(16.1%,15.3%,14.1%);stroke-linecap:round;stroke-opacity:1.0;stroke-width:2\"></path><path d=\"M 203.125 112.5 L 181.25 175.0\" style=\"fill:none;stroke:rgb(16.1%,15.3%,14.1%);stroke-linecap:round;stroke-opacity:1.0;stroke-width:2\"></path><path d=\"M 153.90625 50.0 L 203.125 112.5\" style=\"fill:none;stroke:rgb(16.1%,15.3%,14.1%);stroke-linecap:round;stroke-opacity:1.0;stroke-width:2\"></path><path d=\"M 104.6875 91.66666666666667 L 137.5 175.0\" style=\"fill:none;stroke:rgb(16.1%,15.3%,14.1%);stroke-linecap:round;stroke-opacity:1.0;stroke-width:2\"></path><path d=\"M 71.875 133.33333333333334 L 93.75 175.0\" style=\"fill:none;stroke:rgb(16.1%,15.3%,14.1%);stroke-linecap:round;stroke-opacity:1.0;stroke-width:2\"></path><path d=\"M 71.875 133.33333333333334 L 50.0 175.0\" style=\"fill:none;stroke:rgb(16.1%,15.3%,14.1%);stroke-linecap:round;stroke-opacity:1.0;stroke-width:2\"></path><path d=\"M 104.6875 91.66666666666667 L 71.875 133.33333333333334\" style=\"fill:none;stroke:rgb(16.1%,15.3%,14.1%);stroke-linecap:round;stroke-opacity:1.0;stroke-width:2\"></path><path d=\"M 153.90625 50.0 L 104.6875 91.66666666666667\" style=\"fill:none;stroke:rgb(16.1%,15.3%,14.1%);stroke-linecap:round;stroke-opacity:1.0;stroke-width:2\"></path><g class=\"toyplot-HeadMarkers\"></g><g class=\"toyplot-MiddleMarkers\"></g><g class=\"toyplot-TailMarkers\"></g></g><g class=\"toyplot-Vertices\"><g class=\"toyplot-Datum\" style=\"fill:rgb(40%,76.1%,64.7%);fill-opacity:1.0;opacity:1.0;stroke:rgb(40%,76.1%,64.7%);stroke-opacity:1.0\" transform=\"translate(225.0, 175.0)\"><circle r=\"0.0\"></circle></g><g class=\"toyplot-Datum\" style=\"fill:rgb(40%,76.1%,64.7%);fill-opacity:1.0;opacity:1.0;stroke:rgb(40%,76.1%,64.7%);stroke-opacity:1.0\" transform=\"translate(181.25, 175.0)\"><circle r=\"0.0\"></circle></g><g class=\"toyplot-Datum\" style=\"fill:rgb(40%,76.1%,64.7%);fill-opacity:1.0;opacity:1.0;stroke:rgb(40%,76.1%,64.7%);stroke-opacity:1.0\" transform=\"translate(137.5, 175.0)\"><circle r=\"0.0\"></circle></g><g class=\"toyplot-Datum\" style=\"fill:rgb(40%,76.1%,64.7%);fill-opacity:1.0;opacity:1.0;stroke:rgb(40%,76.1%,64.7%);stroke-opacity:1.0\" transform=\"translate(93.75, 175.0)\"><circle r=\"0.0\"></circle></g><g class=\"toyplot-Datum\" style=\"fill:rgb(40%,76.1%,64.7%);fill-opacity:1.0;opacity:1.0;stroke:rgb(40%,76.1%,64.7%);stroke-opacity:1.0\" transform=\"translate(50.0, 175.0)\"><circle r=\"0.0\"></circle></g><g class=\"toyplot-Datum\" style=\"fill:rgb(40%,76.1%,64.7%);fill-opacity:1.0;opacity:1.0;stroke:rgb(40%,76.1%,64.7%);stroke-opacity:1.0\" transform=\"translate(71.875, 133.33333333333334)\"><circle r=\"0.0\"></circle></g><g class=\"toyplot-Datum\" style=\"fill:rgb(40%,76.1%,64.7%);fill-opacity:1.0;opacity:1.0;stroke:rgb(40%,76.1%,64.7%);stroke-opacity:1.0\" transform=\"translate(104.6875, 91.66666666666667)\"><circle r=\"0.0\"></circle></g><g class=\"toyplot-Datum\" style=\"fill:rgb(40%,76.1%,64.7%);fill-opacity:1.0;opacity:1.0;stroke:rgb(40%,76.1%,64.7%);stroke-opacity:1.0\" transform=\"translate(203.125, 112.5)\"><circle r=\"0.0\"></circle></g><g class=\"toyplot-Datum\" style=\"fill:rgb(40%,76.1%,64.7%);fill-opacity:1.0;opacity:1.0;stroke:rgb(40%,76.1%,64.7%);stroke-opacity:1.0\" transform=\"translate(153.90625, 50.0)\"><circle r=\"0.0\"></circle></g></g></g><g class=\"toyplot-mark-Scatterplot\" id=\"t67bf01006034478883274ed3f813f844\"><g class=\"toyplot-Series\"><g class=\"toyplot-Datum\" style=\"fill:rgb(40%,76.1%,64.7%);fill-opacity:1.0;opacity:1.0;stroke:none\" transform=\"translate(225.0, 175.0)\"><title>idx: 4\n",
       "name: r4\n",
       "dist: 1.0\n",
       "support: 100\n",
       "height: 0.0</title><circle r=\"7.5\"></circle><g><text style=\"fill:rgb(16.1%,15.3%,14.1%);fill-opacity:1.0;font-family:helvetica;font-size:9.0px;font-weight:normal;stroke:none;vertical-align:baseline;white-space:pre\" x=\"-2.5020000000000002\" y=\"2.2995\">0</text></g></g><g class=\"toyplot-Datum\" style=\"fill:rgb(40%,76.1%,64.7%);fill-opacity:1.0;opacity:1.0;stroke:none\" transform=\"translate(181.25, 175.0)\"><title>idx: 3\n",
       "name: r3\n",
       "dist: 1.0\n",
       "support: 100\n",
       "height: 0.0</title><circle r=\"7.5\"></circle><g><text style=\"fill:rgb(16.1%,15.3%,14.1%);fill-opacity:1.0;font-family:helvetica;font-size:9.0px;font-weight:normal;stroke:none;vertical-align:baseline;white-space:pre\" x=\"-2.5020000000000002\" y=\"2.2995\">1</text></g></g><g class=\"toyplot-Datum\" style=\"fill:rgb(40%,76.1%,64.7%);fill-opacity:1.0;opacity:1.0;stroke:none\" transform=\"translate(137.5, 175.0)\"><title>idx: 2\n",
       "name: r2\n",
       "dist: 2.0\n",
       "support: 100\n",
       "height: 0.0</title><circle r=\"7.5\"></circle><g><text style=\"fill:rgb(16.1%,15.3%,14.1%);fill-opacity:1.0;font-family:helvetica;font-size:9.0px;font-weight:normal;stroke:none;vertical-align:baseline;white-space:pre\" x=\"-2.5020000000000002\" y=\"2.2995\">2</text></g></g><g class=\"toyplot-Datum\" style=\"fill:rgb(40%,76.1%,64.7%);fill-opacity:1.0;opacity:1.0;stroke:none\" transform=\"translate(93.75, 175.0)\"><title>idx: 1\n",
       "name: r1\n",
       "dist: 1.5\n",
       "support: 100\n",
       "height: 0.0</title><circle r=\"7.5\"></circle><g><text style=\"fill:rgb(16.1%,15.3%,14.1%);fill-opacity:1.0;font-family:helvetica;font-size:9.0px;font-weight:normal;stroke:none;vertical-align:baseline;white-space:pre\" x=\"-2.5020000000000002\" y=\"2.2995\">3</text></g></g><g class=\"toyplot-Datum\" style=\"fill:rgb(40%,76.1%,64.7%);fill-opacity:1.0;opacity:1.0;stroke:none\" transform=\"translate(50.0, 175.0)\"><title>idx: 0\n",
       "name: r0\n",
       "dist: 1.5\n",
       "support: 100\n",
       "height: 0.0</title><circle r=\"7.5\"></circle><g><text style=\"fill:rgb(16.1%,15.3%,14.1%);fill-opacity:1.0;font-family:helvetica;font-size:9.0px;font-weight:normal;stroke:none;vertical-align:baseline;white-space:pre\" x=\"-2.5020000000000002\" y=\"2.2995\">4</text></g></g><g class=\"toyplot-Datum\" style=\"fill:rgb(40%,76.1%,64.7%);fill-opacity:1.0;opacity:1.0;stroke:none\" transform=\"translate(71.875, 133.33333333333334)\"><title>idx: 5\n",
       "name: i5\n",
       "dist: 1.0\n",
       "support: 1\n",
       "height: 1.0</title><circle r=\"7.5\"></circle><g><text style=\"fill:rgb(16.1%,15.3%,14.1%);fill-opacity:1.0;font-family:helvetica;font-size:9.0px;font-weight:normal;stroke:none;vertical-align:baseline;white-space:pre\" x=\"-2.5020000000000002\" y=\"2.2995\">5</text></g></g><g class=\"toyplot-Datum\" style=\"fill:rgb(40%,76.1%,64.7%);fill-opacity:1.0;opacity:1.0;stroke:none\" transform=\"translate(104.6875, 91.66666666666667)\"><title>idx: 6\n",
       "name: i6\n",
       "dist: 1.0\n",
       "support: 1\n",
       "height: 2.0</title><circle r=\"7.5\"></circle><g><text style=\"fill:rgb(16.1%,15.3%,14.1%);fill-opacity:1.0;font-family:helvetica;font-size:9.0px;font-weight:normal;stroke:none;vertical-align:baseline;white-space:pre\" x=\"-2.5020000000000002\" y=\"2.2995\">6</text></g></g><g class=\"toyplot-Datum\" style=\"fill:rgb(40%,76.1%,64.7%);fill-opacity:1.0;opacity:1.0;stroke:none\" transform=\"translate(203.125, 112.5)\"><title>idx: 7\n",
       "name: i7\n",
       "dist: 1.5\n",
       "support: 1\n",
       "height: 1.5</title><circle r=\"7.5\"></circle><g><text style=\"fill:rgb(16.1%,15.3%,14.1%);fill-opacity:1.0;font-family:helvetica;font-size:9.0px;font-weight:normal;stroke:none;vertical-align:baseline;white-space:pre\" x=\"-2.5020000000000002\" y=\"2.2995\">7</text></g></g><g class=\"toyplot-Datum\" style=\"fill:rgb(40%,76.1%,64.7%);fill-opacity:1.0;opacity:1.0;stroke:none\" transform=\"translate(153.90625, 50.0)\"><title>idx: 8\n",
       "name: i8\n",
       "dist: 0.0\n",
       "support: 100\n",
       "height: 3.0</title><circle r=\"7.5\"></circle><g><text style=\"fill:rgb(16.1%,15.3%,14.1%);fill-opacity:1.0;font-family:helvetica;font-size:9.0px;font-weight:normal;stroke:none;vertical-align:baseline;white-space:pre\" x=\"-2.5020000000000002\" y=\"2.2995\">8</text></g></g></g></g></g><g class=\"toyplot-coordinates-Axis\" id=\"t5752b06eff724eb8a4e3611f7f20cdbb\" transform=\"translate(50.0,175.0)rotate(-90.0)translate(0,-20.0)\"><line style=\"\" x1=\"0\" x2=\"125.0\" y1=\"0\" y2=\"0\"></line><g><line style=\"\" x1=\"0.0\" x2=\"0.0\" y1=\"0\" y2=\"5\"></line><line style=\"\" x1=\"41.666666666666664\" x2=\"41.666666666666664\" y1=\"0\" y2=\"5\"></line><line style=\"\" x1=\"83.33333333333333\" x2=\"83.33333333333333\" y1=\"0\" y2=\"5\"></line><line style=\"\" x1=\"125.0\" x2=\"125.0\" y1=\"0\" y2=\"5\"></line></g><g><g transform=\"translate(0.0,-6)rotate(90)\"><text style=\"fill:rgb(16.1%,15.3%,14.1%);fill-opacity:1.0;font-family:helvetica;font-size:10.0px;font-weight:normal;stroke:none;vertical-align:baseline;white-space:pre\" x=\"-5.56\" y=\"2.5549999999999997\">0</text></g><g transform=\"translate(41.666666666666664,-6)rotate(90)\"><text style=\"fill:rgb(16.1%,15.3%,14.1%);fill-opacity:1.0;font-family:helvetica;font-size:10.0px;font-weight:normal;stroke:none;vertical-align:baseline;white-space:pre\" x=\"-5.56\" y=\"2.5549999999999997\">1</text></g><g transform=\"translate(83.33333333333333,-6)rotate(90)\"><text style=\"fill:rgb(16.1%,15.3%,14.1%);fill-opacity:1.0;font-family:helvetica;font-size:10.0px;font-weight:normal;stroke:none;vertical-align:baseline;white-space:pre\" x=\"-5.56\" y=\"2.5549999999999997\">2</text></g><g transform=\"translate(125.0,-6)rotate(90)\"><text style=\"fill:rgb(16.1%,15.3%,14.1%);fill-opacity:1.0;font-family:helvetica;font-size:10.0px;font-weight:normal;stroke:none;vertical-align:baseline;white-space:pre\" x=\"-5.56\" y=\"2.5549999999999997\">3</text></g></g><g class=\"toyplot-coordinates-Axis-coordinates\" style=\"visibility:hidden\" transform=\"\"><line style=\"stroke:rgb(43.9%,50.2%,56.5%);stroke-opacity:1.0;stroke-width:1.0\" x1=\"0\" x2=\"0\" y1=\"3.0\" y2=\"-4.5\"></line><text style=\"alignment-baseline:hanging;fill:rgb(43.9%,50.2%,56.5%);fill-opacity:1.0;font-size:10px;font-weight:normal;stroke:none;text-anchor:middle\" x=\"0\" y=\"6\"></text></g></g></g></svg><div class=\"toyplot-behavior\"><script>(function()\n",
       "{\n",
       "var modules={};\n",
       "modules[\"toyplot/tables\"] = (function()\n",
       "    {\n",
       "        var tables = [];\n",
       "\n",
       "        var module = {};\n",
       "\n",
       "        module.set = function(owner, key, names, columns)\n",
       "        {\n",
       "            tables.push({owner: owner, key: key, names: names, columns: columns});\n",
       "        }\n",
       "\n",
       "        module.get = function(owner, key)\n",
       "        {\n",
       "            for(var i = 0; i != tables.length; ++i)\n",
       "            {\n",
       "                var table = tables[i];\n",
       "                if(table.owner != owner)\n",
       "                    continue;\n",
       "                if(table.key != key)\n",
       "                    continue;\n",
       "                return {names: table.names, columns: table.columns};\n",
       "            }\n",
       "        }\n",
       "\n",
       "        module.get_csv = function(owner, key)\n",
       "        {\n",
       "            var table = module.get(owner, key);\n",
       "            if(table != undefined)\n",
       "            {\n",
       "                var csv = \"\";\n",
       "                csv += table.names.join(\",\") + \"\\n\";\n",
       "                for(var i = 0; i != table.columns[0].length; ++i)\n",
       "                {\n",
       "                  for(var j = 0; j != table.columns.length; ++j)\n",
       "                  {\n",
       "                    if(j)\n",
       "                      csv += \",\";\n",
       "                    csv += table.columns[j][i];\n",
       "                  }\n",
       "                  csv += \"\\n\";\n",
       "                }\n",
       "                return csv;\n",
       "            }\n",
       "        }\n",
       "\n",
       "        return module;\n",
       "    })();\n",
       "modules[\"toyplot/root/id\"] = \"t491213535ce44210943879bfdd399f3a\";\n",
       "modules[\"toyplot/root\"] = (function(root_id)\n",
       "    {\n",
       "        return document.querySelector(\"#\" + root_id);\n",
       "    })(modules[\"toyplot/root/id\"]);\n",
       "modules[\"toyplot/canvas/id\"] = \"t4abbf4ebc57143b49fbcc0d1fe27678b\";\n",
       "modules[\"toyplot/canvas\"] = (function(canvas_id)\n",
       "    {\n",
       "        return document.querySelector(\"#\" + canvas_id);\n",
       "    })(modules[\"toyplot/canvas/id\"]);\n",
       "modules[\"toyplot/menus/context\"] = (function(root, canvas)\n",
       "    {\n",
       "        var wrapper = document.createElement(\"div\");\n",
       "        wrapper.innerHTML = \"<ul class='toyplot-context-menu' style='background:#eee; border:1px solid #b8b8b8; border-radius:5px; box-shadow: 0px 0px 8px rgba(0%,0%,0%,0.25); margin:0; padding:3px 0; position:fixed; visibility:hidden;'></ul>\"\n",
       "        var menu = wrapper.firstChild;\n",
       "\n",
       "        root.appendChild(menu);\n",
       "\n",
       "        var items = [];\n",
       "\n",
       "        var ignore_mouseup = null;\n",
       "        function open_menu(e)\n",
       "        {\n",
       "            var show_menu = false;\n",
       "            for(var index=0; index != items.length; ++index)\n",
       "            {\n",
       "                var item = items[index];\n",
       "                if(item.show(e))\n",
       "                {\n",
       "                    item.item.style.display = \"block\";\n",
       "                    show_menu = true;\n",
       "                }\n",
       "                else\n",
       "                {\n",
       "                    item.item.style.display = \"none\";\n",
       "                }\n",
       "            }\n",
       "\n",
       "            if(show_menu)\n",
       "            {\n",
       "                ignore_mouseup = true;\n",
       "                menu.style.left = (e.clientX + 1) + \"px\";\n",
       "                menu.style.top = (e.clientY - 5) + \"px\";\n",
       "                menu.style.visibility = \"visible\";\n",
       "                e.stopPropagation();\n",
       "                e.preventDefault();\n",
       "            }\n",
       "        }\n",
       "\n",
       "        function close_menu()\n",
       "        {\n",
       "            menu.style.visibility = \"hidden\";\n",
       "        }\n",
       "\n",
       "        function contextmenu(e)\n",
       "        {\n",
       "            open_menu(e);\n",
       "        }\n",
       "\n",
       "        function mousemove(e)\n",
       "        {\n",
       "            ignore_mouseup = false;\n",
       "        }\n",
       "\n",
       "        function mouseup(e)\n",
       "        {\n",
       "            if(ignore_mouseup)\n",
       "            {\n",
       "                ignore_mouseup = false;\n",
       "                return;\n",
       "            }\n",
       "            close_menu();\n",
       "        }\n",
       "\n",
       "        function keydown(e)\n",
       "        {\n",
       "            if(e.key == \"Escape\" || e.key == \"Esc\" || e.keyCode == 27)\n",
       "            {\n",
       "                close_menu();\n",
       "            }\n",
       "        }\n",
       "\n",
       "        canvas.addEventListener(\"contextmenu\", contextmenu);\n",
       "        canvas.addEventListener(\"mousemove\", mousemove);\n",
       "        document.addEventListener(\"mouseup\", mouseup);\n",
       "        document.addEventListener(\"keydown\", keydown);\n",
       "\n",
       "        var module = {};\n",
       "        module.add_item = function(label, show, activate)\n",
       "        {\n",
       "            var wrapper = document.createElement(\"div\");\n",
       "            wrapper.innerHTML = \"<li class='toyplot-context-menu-item' style='background:#eee; color:#333; padding:2px 20px; list-style:none; margin:0; text-align:left;'>\" + label + \"</li>\"\n",
       "            var item = wrapper.firstChild;\n",
       "\n",
       "            items.push({item: item, show: show});\n",
       "\n",
       "            function mouseover()\n",
       "            {\n",
       "                this.style.background = \"steelblue\";\n",
       "                this.style.color = \"white\";\n",
       "            }\n",
       "\n",
       "            function mouseout()\n",
       "            {\n",
       "                this.style.background = \"#eee\";\n",
       "                this.style.color = \"#333\";\n",
       "            }\n",
       "\n",
       "            function choose_item(e)\n",
       "            {\n",
       "                close_menu();\n",
       "                activate();\n",
       "\n",
       "                e.stopPropagation();\n",
       "                e.preventDefault();\n",
       "            }\n",
       "\n",
       "            item.addEventListener(\"mouseover\", mouseover);\n",
       "            item.addEventListener(\"mouseout\", mouseout);\n",
       "            item.addEventListener(\"mouseup\", choose_item);\n",
       "            item.addEventListener(\"contextmenu\", choose_item);\n",
       "\n",
       "            menu.appendChild(item);\n",
       "        };\n",
       "        return module;\n",
       "    })(modules[\"toyplot/root\"],modules[\"toyplot/canvas\"]);\n",
       "modules[\"toyplot/io\"] = (function()\n",
       "    {\n",
       "        var module = {};\n",
       "        module.save_file = function(mime_type, charset, data, filename)\n",
       "        {\n",
       "            var uri = \"data:\" + mime_type + \";charset=\" + charset + \",\" + data;\n",
       "            uri = encodeURI(uri);\n",
       "\n",
       "            var link = document.createElement(\"a\");\n",
       "            if(typeof link.download != \"undefined\")\n",
       "            {\n",
       "              link.href = uri;\n",
       "              link.style = \"visibility:hidden\";\n",
       "              link.download = filename;\n",
       "\n",
       "              document.body.appendChild(link);\n",
       "              link.click();\n",
       "              document.body.removeChild(link);\n",
       "            }\n",
       "            else\n",
       "            {\n",
       "              window.open(uri);\n",
       "            }\n",
       "        };\n",
       "        return module;\n",
       "    })();\n",
       "modules[\"toyplot.coordinates.Axis\"] = (\n",
       "        function(canvas)\n",
       "        {\n",
       "            function sign(x)\n",
       "            {\n",
       "                return x < 0 ? -1 : x > 0 ? 1 : 0;\n",
       "            }\n",
       "\n",
       "            function mix(a, b, amount)\n",
       "            {\n",
       "                return ((1.0 - amount) * a) + (amount * b);\n",
       "            }\n",
       "\n",
       "            function log(x, base)\n",
       "            {\n",
       "                return Math.log(Math.abs(x)) / Math.log(base);\n",
       "            }\n",
       "\n",
       "            function in_range(a, x, b)\n",
       "            {\n",
       "                var left = Math.min(a, b);\n",
       "                var right = Math.max(a, b);\n",
       "                return left <= x && x <= right;\n",
       "            }\n",
       "\n",
       "            function inside(range, projection)\n",
       "            {\n",
       "                for(var i = 0; i != projection.length; ++i)\n",
       "                {\n",
       "                    var segment = projection[i];\n",
       "                    if(in_range(segment.range.min, range, segment.range.max))\n",
       "                        return true;\n",
       "                }\n",
       "                return false;\n",
       "            }\n",
       "\n",
       "            function to_domain(range, projection)\n",
       "            {\n",
       "                for(var i = 0; i != projection.length; ++i)\n",
       "                {\n",
       "                    var segment = projection[i];\n",
       "                    if(in_range(segment.range.bounds.min, range, segment.range.bounds.max))\n",
       "                    {\n",
       "                        if(segment.scale == \"linear\")\n",
       "                        {\n",
       "                            var amount = (range - segment.range.min) / (segment.range.max - segment.range.min);\n",
       "                            return mix(segment.domain.min, segment.domain.max, amount)\n",
       "                        }\n",
       "                        else if(segment.scale[0] == \"log\")\n",
       "                        {\n",
       "                            var amount = (range - segment.range.min) / (segment.range.max - segment.range.min);\n",
       "                            var base = segment.scale[1];\n",
       "                            return sign(segment.domain.min) * Math.pow(base, mix(log(segment.domain.min, base), log(segment.domain.max, base), amount));\n",
       "                        }\n",
       "                    }\n",
       "                }\n",
       "            }\n",
       "\n",
       "            var axes = {};\n",
       "\n",
       "            function display_coordinates(e)\n",
       "            {\n",
       "                var current = canvas.createSVGPoint();\n",
       "                current.x = e.clientX;\n",
       "                current.y = e.clientY;\n",
       "\n",
       "                for(var axis_id in axes)\n",
       "                {\n",
       "                    var axis = document.querySelector(\"#\" + axis_id);\n",
       "                    var coordinates = axis.querySelector(\".toyplot-coordinates-Axis-coordinates\");\n",
       "                    if(coordinates)\n",
       "                    {\n",
       "                        var projection = axes[axis_id];\n",
       "                        var local = current.matrixTransform(axis.getScreenCTM().inverse());\n",
       "                        if(inside(local.x, projection))\n",
       "                        {\n",
       "                            var domain = to_domain(local.x, projection);\n",
       "                            coordinates.style.visibility = \"visible\";\n",
       "                            coordinates.setAttribute(\"transform\", \"translate(\" + local.x + \")\");\n",
       "                            var text = coordinates.querySelector(\"text\");\n",
       "                            text.textContent = domain.toFixed(2);\n",
       "                        }\n",
       "                        else\n",
       "                        {\n",
       "                            coordinates.style.visibility= \"hidden\";\n",
       "                        }\n",
       "                    }\n",
       "                }\n",
       "            }\n",
       "\n",
       "            canvas.addEventListener(\"click\", display_coordinates);\n",
       "\n",
       "            var module = {};\n",
       "            module.show_coordinates = function(axis_id, projection)\n",
       "            {\n",
       "                axes[axis_id] = projection;\n",
       "            }\n",
       "\n",
       "            return module;\n",
       "        })(modules[\"toyplot/canvas\"]);\n",
       "(function(tables, context_menu, io, owner_id, key, label, names, columns, filename)\n",
       "        {\n",
       "            tables.set(owner_id, key, names, columns);\n",
       "\n",
       "            var owner = document.querySelector(\"#\" + owner_id);\n",
       "            function show_item(e)\n",
       "            {\n",
       "                return owner.contains(e.target);\n",
       "            }\n",
       "\n",
       "            function choose_item()\n",
       "            {\n",
       "                io.save_file(\"text/csv\", \"utf-8\", tables.get_csv(owner_id, key), filename + \".csv\");\n",
       "            }\n",
       "\n",
       "            context_menu.add_item(\"Save \" + label + \" as CSV\", show_item, choose_item);\n",
       "        })(modules[\"toyplot/tables\"],modules[\"toyplot/menus/context\"],modules[\"toyplot/io\"],\"t03e11422e3f342d9a958dc14dc5b8896\",\"vertex_data\",\"graph vertex data\",[\"x\", \"y\"],[[4.0, 3.0, 2.0, 1.0, 0.0, 0.5, 1.25, 3.5, 2.375], [-0.0, -0.0, -0.0, -0.0, -0.0, 1.0, 2.0, 1.5, 3.0]],\"toyplot\");\n",
       "(function(tables, context_menu, io, owner_id, key, label, names, columns, filename)\n",
       "        {\n",
       "            tables.set(owner_id, key, names, columns);\n",
       "\n",
       "            var owner = document.querySelector(\"#\" + owner_id);\n",
       "            function show_item(e)\n",
       "            {\n",
       "                return owner.contains(e.target);\n",
       "            }\n",
       "\n",
       "            function choose_item()\n",
       "            {\n",
       "                io.save_file(\"text/csv\", \"utf-8\", tables.get_csv(owner_id, key), filename + \".csv\");\n",
       "            }\n",
       "\n",
       "            context_menu.add_item(\"Save \" + label + \" as CSV\", show_item, choose_item);\n",
       "        })(modules[\"toyplot/tables\"],modules[\"toyplot/menus/context\"],modules[\"toyplot/io\"],\"t03e11422e3f342d9a958dc14dc5b8896\",\"edge_data\",\"graph edge data\",[\"source\", \"target\"],[[7, 7, 8, 6, 5, 5, 6, 8], [0, 1, 7, 2, 3, 4, 5, 6]],\"toyplot\");\n",
       "(function(tables, context_menu, io, owner_id, key, label, names, columns, filename)\n",
       "        {\n",
       "            tables.set(owner_id, key, names, columns);\n",
       "\n",
       "            var owner = document.querySelector(\"#\" + owner_id);\n",
       "            function show_item(e)\n",
       "            {\n",
       "                return owner.contains(e.target);\n",
       "            }\n",
       "\n",
       "            function choose_item()\n",
       "            {\n",
       "                io.save_file(\"text/csv\", \"utf-8\", tables.get_csv(owner_id, key), filename + \".csv\");\n",
       "            }\n",
       "\n",
       "            context_menu.add_item(\"Save \" + label + \" as CSV\", show_item, choose_item);\n",
       "        })(modules[\"toyplot/tables\"],modules[\"toyplot/menus/context\"],modules[\"toyplot/io\"],\"t67bf01006034478883274ed3f813f844\",\"data\",\"scatterplot\",[\"x\", \"y0\"],[[4.0, 3.0, 2.0, 1.0, 0.0, 0.5, 1.25, 3.5, 2.375], [-0.0, -0.0, -0.0, -0.0, -0.0, 1.0, 2.0, 1.5, 3.0]],\"toyplot\");\n",
       "(function(axis, axis_id, projection)\n",
       "        {\n",
       "            axis.show_coordinates(axis_id, projection);\n",
       "        })(modules[\"toyplot.coordinates.Axis\"],\"t5752b06eff724eb8a4e3611f7f20cdbb\",[{\"domain\": {\"bounds\": {\"max\": Infinity, \"min\": -Infinity}, \"max\": 3.0, \"min\": 0.0}, \"range\": {\"bounds\": {\"max\": Infinity, \"min\": -Infinity}, \"max\": 125.0, \"min\": 0.0}, \"scale\": \"linear\"}]);\n",
       "})();</script></div></div>"
      ]
     },
     "metadata": {},
     "output_type": "display_data"
    }
   ],
   "source": [
    "## generate a random tree\n",
    "tree = toytree.rtree.unittree(ntips=5, treeheight=3, seed=12345)\n",
    "c, a = tree.draw(tree_style='c')"
   ]
  },
  {
   "cell_type": "markdown",
   "metadata": {},
   "source": [
    "# Example simcat model:"
   ]
  },
  {
   "cell_type": "code",
   "execution_count": 43,
   "metadata": {},
   "outputs": [],
   "source": [
    "observed = simcat.Model(\n",
    "    tree=tree, \n",
    "    admixture_edges=((1, 4, 0.5, 0.7, 0.00001)),\n",
    "    theta=0.01,\n",
    "    ntests=1,\n",
    "    debug=True,\n",
    "    )"
   ]
  },
  {
   "cell_type": "code",
   "execution_count": 44,
   "metadata": {},
   "outputs": [
    {
     "name": "stderr",
     "output_type": "stream",
     "text": [
      "demog div: (1500000, 2, 0)\n",
      "demog div: (750000, 1, 0)\n",
      "demog div: (1000000, 3, 2)\n",
      "demog div: (500000, 4, 3)\n",
      "demog mig: (250000.0, 350000.0) 0.0 (1, 4) 250000.0\n"
     ]
    }
   ],
   "source": [
    "observed.run()"
   ]
  },
  {
   "cell_type": "code",
   "execution_count": 46,
   "metadata": {},
   "outputs": [
    {
     "data": {
      "text/plain": [
       "(1, 5, 16, 16)"
      ]
     },
     "execution_count": 46,
     "metadata": {},
     "output_type": "execute_result"
    }
   ],
   "source": [
    "observed.counts.shape"
   ]
  },
  {
   "cell_type": "markdown",
   "metadata": {},
   "source": [
    "Plot the top layer of the simulated site count matrix:"
   ]
  },
  {
   "cell_type": "code",
   "execution_count": 52,
   "metadata": {},
   "outputs": [
    {
     "data": {
      "text/html": [
       "<div class=\"toyplot\" id=\"tefe752ff929847498c9c966c5e1d28f1\" style=\"text-align:center\"><svg class=\"toyplot-canvas-Canvas\" height=\"600px\" id=\"ta49481af92b0460294c58d2fdd033e01\" preserveAspectRatio=\"xMidYMid meet\" style=\"background-color:transparent;fill:rgb(16.1%,15.3%,14.1%);fill-opacity:1.0;font-family:Helvetica;font-size:12px;opacity:1.0;stroke:rgb(16.1%,15.3%,14.1%);stroke-opacity:1.0;stroke-width:1.0\" viewBox=\"0 0 600 600\" width=\"600px\" xmlns=\"http://www.w3.org/2000/svg\" xmlns:toyplot=\"http://www.sandia.gov/toyplot\" xmlns:xlink=\"http://www.w3.org/1999/xlink\"><g class=\"toyplot-coordinates-Table\" id=\"t0f9c4758ef294997aabf808885778a85\"><g transform=\"translate(103.125,80.0)\"><text style=\"fill:rgb(16.1%,15.3%,14.1%);fill-opacity:1.0;font-family:helvetica;font-size:12.0px;font-weight:normal;stroke:none;vertical-align:baseline;white-space:pre\" x=\"-3.3360000000000003\" y=\"3.066\">0</text></g><g transform=\"translate(129.375,80.0)\"><text style=\"fill:rgb(16.1%,15.3%,14.1%);fill-opacity:1.0;font-family:helvetica;font-size:12.0px;font-weight:normal;stroke:none;vertical-align:baseline;white-space:pre\" x=\"-3.3360000000000003\" y=\"3.066\">1</text></g><g transform=\"translate(155.625,80.0)\"><text style=\"fill:rgb(16.1%,15.3%,14.1%);fill-opacity:1.0;font-family:helvetica;font-size:12.0px;font-weight:normal;stroke:none;vertical-align:baseline;white-space:pre\" x=\"-3.3360000000000003\" y=\"3.066\">2</text></g><g transform=\"translate(181.875,80.0)\"><text style=\"fill:rgb(16.1%,15.3%,14.1%);fill-opacity:1.0;font-family:helvetica;font-size:12.0px;font-weight:normal;stroke:none;vertical-align:baseline;white-space:pre\" x=\"-3.3360000000000003\" y=\"3.066\">3</text></g><g transform=\"translate(208.125,80.0)\"><text style=\"fill:rgb(16.1%,15.3%,14.1%);fill-opacity:1.0;font-family:helvetica;font-size:12.0px;font-weight:normal;stroke:none;vertical-align:baseline;white-space:pre\" x=\"-3.3360000000000003\" y=\"3.066\">4</text></g><g transform=\"translate(234.375,80.0)\"><text style=\"fill:rgb(16.1%,15.3%,14.1%);fill-opacity:1.0;font-family:helvetica;font-size:12.0px;font-weight:normal;stroke:none;vertical-align:baseline;white-space:pre\" x=\"-3.3360000000000003\" y=\"3.066\">5</text></g><g transform=\"translate(260.625,80.0)\"><text style=\"fill:rgb(16.1%,15.3%,14.1%);fill-opacity:1.0;font-family:helvetica;font-size:12.0px;font-weight:normal;stroke:none;vertical-align:baseline;white-space:pre\" x=\"-3.3360000000000003\" y=\"3.066\">6</text></g><g transform=\"translate(286.875,80.0)\"><text style=\"fill:rgb(16.1%,15.3%,14.1%);fill-opacity:1.0;font-family:helvetica;font-size:12.0px;font-weight:normal;stroke:none;vertical-align:baseline;white-space:pre\" x=\"-3.3360000000000003\" y=\"3.066\">7</text></g><g transform=\"translate(313.125,80.0)\"><text style=\"fill:rgb(16.1%,15.3%,14.1%);fill-opacity:1.0;font-family:helvetica;font-size:12.0px;font-weight:normal;stroke:none;vertical-align:baseline;white-space:pre\" x=\"-3.3360000000000003\" y=\"3.066\">8</text></g><g transform=\"translate(339.375,80.0)\"><text style=\"fill:rgb(16.1%,15.3%,14.1%);fill-opacity:1.0;font-family:helvetica;font-size:12.0px;font-weight:normal;stroke:none;vertical-align:baseline;white-space:pre\" x=\"-3.3360000000000003\" y=\"3.066\">9</text></g><g transform=\"translate(365.625,80.0)\"><text style=\"fill:rgb(16.1%,15.3%,14.1%);fill-opacity:1.0;font-family:helvetica;font-size:12.0px;font-weight:normal;stroke:none;vertical-align:baseline;white-space:pre\" x=\"-6.672000000000001\" y=\"3.066\">10</text></g><g transform=\"translate(391.875,80.0)\"><text style=\"fill:rgb(16.1%,15.3%,14.1%);fill-opacity:1.0;font-family:helvetica;font-size:12.0px;font-weight:normal;stroke:none;vertical-align:baseline;white-space:pre\" x=\"-6.672000000000001\" y=\"3.066\">11</text></g><g transform=\"translate(418.125,80.0)\"><text style=\"fill:rgb(16.1%,15.3%,14.1%);fill-opacity:1.0;font-family:helvetica;font-size:12.0px;font-weight:normal;stroke:none;vertical-align:baseline;white-space:pre\" x=\"-6.672000000000001\" y=\"3.066\">12</text></g><g transform=\"translate(444.375,80.0)\"><text style=\"fill:rgb(16.1%,15.3%,14.1%);fill-opacity:1.0;font-family:helvetica;font-size:12.0px;font-weight:normal;stroke:none;vertical-align:baseline;white-space:pre\" x=\"-6.672000000000001\" y=\"3.066\">13</text></g><g transform=\"translate(470.625,80.0)\"><text style=\"fill:rgb(16.1%,15.3%,14.1%);fill-opacity:1.0;font-family:helvetica;font-size:12.0px;font-weight:normal;stroke:none;vertical-align:baseline;white-space:pre\" x=\"-6.672000000000001\" y=\"3.066\">14</text></g><g transform=\"translate(496.875,80.0)\"><text style=\"fill:rgb(16.1%,15.3%,14.1%);fill-opacity:1.0;font-family:helvetica;font-size:12.0px;font-weight:normal;stroke:none;vertical-align:baseline;white-space:pre\" x=\"-6.672000000000001\" y=\"3.066\">15</text></g><g transform=\"translate(85.0,103.125)\"><text style=\"fill:rgb(16.1%,15.3%,14.1%);fill-opacity:1.0;font-family:helvetica;font-size:12.0px;font-weight:normal;stroke:none;vertical-align:baseline;white-space:pre\" x=\"-6.672000000000001\" y=\"3.066\">0</text></g><rect height=\"26.25\" style=\"fill:rgb(64.9%,7.8%,16.1%);fill-opacity:1.0;stroke:none\" width=\"26.25\" x=\"90.0\" y=\"90.0\"><title>0.42307692766189575</title></rect><rect height=\"26.25\" style=\"fill:rgb(84.4%,91%,94.6%);fill-opacity:1.0;stroke:none\" width=\"26.25\" x=\"116.25\" y=\"90.0\"><title>0.19230769574642181</title></rect><rect height=\"26.25\" style=\"fill:rgb(79.2%,88.4%,93.3%);fill-opacity:1.0;stroke:none\" width=\"26.25\" x=\"142.5\" y=\"90.0\"><title>0.1794871836900711</title></rect><rect height=\"26.25\" style=\"fill:rgb(96.9%,96.9%,96.9%);fill-opacity:1.0;stroke:none\" width=\"26.25\" x=\"168.75\" y=\"90.0\"><title>0.23076923191547394</title></rect><rect height=\"26.25\" style=\"fill:rgb(72.4%,84.9%,91.4%);fill-opacity:1.0;stroke:none\" width=\"26.25\" x=\"195.0\" y=\"90.0\"><title>0.1666666716337204</title></rect><rect height=\"26.25\" style=\"fill:rgb(14.4%,42%,68.5%);fill-opacity:1.0;stroke:none\" width=\"26.25\" x=\"221.25\" y=\"90.0\"><title>0.05128205195069313</title></rect><rect height=\"26.25\" style=\"fill:rgb(2%,18.8%,38%);fill-opacity:1.0;stroke:none\" width=\"26.25\" x=\"247.5\" y=\"90.0\"><title>0.0</title></rect><rect height=\"26.25\" style=\"fill:rgb(2%,18.8%,38%);fill-opacity:1.0;stroke:none\" width=\"26.25\" x=\"273.75\" y=\"90.0\"><title>0.0</title></rect><rect height=\"26.25\" style=\"fill:rgb(65.5%,81.4%,89.4%);fill-opacity:1.0;stroke:none\" width=\"26.25\" x=\"300.0\" y=\"90.0\"><title>0.1538461595773697</title></rect><rect height=\"26.25\" style=\"fill:rgb(2%,18.8%,38%);fill-opacity:1.0;stroke:none\" width=\"26.25\" x=\"326.25\" y=\"90.0\"><title>0.0</title></rect><rect height=\"26.25\" style=\"fill:rgb(18.1%,46.9%,71%);fill-opacity:1.0;stroke:none\" width=\"26.25\" x=\"352.5\" y=\"90.0\"><title>0.06410256773233414</title></rect><rect height=\"26.25\" style=\"fill:rgb(2%,18.8%,38%);fill-opacity:1.0;stroke:none\" width=\"26.25\" x=\"378.75\" y=\"90.0\"><title>0.0</title></rect><rect height=\"26.25\" style=\"fill:rgb(92.7%,94.9%,96.1%);fill-opacity:1.0;stroke:none\" width=\"26.25\" x=\"405.0\" y=\"90.0\"><title>0.21794871985912323</title></rect><rect height=\"26.25\" style=\"fill:rgb(2%,18.8%,38%);fill-opacity:1.0;stroke:none\" width=\"26.25\" x=\"431.25\" y=\"90.0\"><title>0.0</title></rect><rect height=\"26.25\" style=\"fill:rgb(2%,18.8%,38%);fill-opacity:1.0;stroke:none\" width=\"26.25\" x=\"457.5\" y=\"90.0\"><title>0.0</title></rect><rect height=\"26.25\" style=\"fill:rgb(14.4%,42%,68.5%);fill-opacity:1.0;stroke:none\" width=\"26.25\" x=\"483.75\" y=\"90.0\"><title>0.05128205195069313</title></rect><g transform=\"translate(85.0,129.375)\"><text style=\"fill:rgb(16.1%,15.3%,14.1%);fill-opacity:1.0;font-family:helvetica;font-size:12.0px;font-weight:normal;stroke:none;vertical-align:baseline;white-space:pre\" x=\"-6.672000000000001\" y=\"3.066\">1</text></g><rect height=\"26.25\" style=\"fill:rgb(58.6%,78%,87.5%);fill-opacity:1.0;stroke:none\" width=\"26.25\" x=\"90.0\" y=\"116.25\"><title>0.14102564752101898</title></rect><rect height=\"26.25\" style=\"fill:rgb(11.1%,36.5%,62.5%);fill-opacity:1.0;stroke:none\" width=\"26.25\" x=\"116.25\" y=\"116.25\"><title>0.03846153989434242</title></rect><rect height=\"26.25\" style=\"fill:rgb(2%,18.8%,38%);fill-opacity:1.0;stroke:none\" width=\"26.25\" x=\"142.5\" y=\"116.25\"><title>0.0</title></rect><rect height=\"26.25\" style=\"fill:rgb(2%,18.8%,38%);fill-opacity:1.0;stroke:none\" width=\"26.25\" x=\"168.75\" y=\"116.25\"><title>0.0</title></rect><rect height=\"26.25\" style=\"fill:rgb(2%,18.8%,38%);fill-opacity:1.0;stroke:none\" width=\"26.25\" x=\"195.0\" y=\"116.25\"><title>0.0</title></rect><rect height=\"26.25\" style=\"fill:rgb(48.6%,2.6%,13.5%);fill-opacity:1.0;stroke:none\" width=\"26.25\" x=\"221.25\" y=\"116.25\"><title>0.44871795177459717</title></rect><rect height=\"26.25\" style=\"fill:rgb(2%,18.8%,38%);fill-opacity:1.0;stroke:none\" width=\"26.25\" x=\"247.5\" y=\"116.25\"><title>0.0</title></rect><rect height=\"26.25\" style=\"fill:rgb(2%,18.8%,38%);fill-opacity:1.0;stroke:none\" width=\"26.25\" x=\"273.75\" y=\"116.25\"><title>0.0</title></rect><rect height=\"26.25\" style=\"fill:rgb(2%,18.8%,38%);fill-opacity:1.0;stroke:none\" width=\"26.25\" x=\"300.0\" y=\"116.25\"><title>0.0</title></rect><rect height=\"26.25\" style=\"fill:rgb(2%,18.8%,38%);fill-opacity:1.0;stroke:none\" width=\"26.25\" x=\"326.25\" y=\"116.25\"><title>0.0</title></rect><rect height=\"26.25\" style=\"fill:rgb(2%,18.8%,38%);fill-opacity:1.0;stroke:none\" width=\"26.25\" x=\"352.5\" y=\"116.25\"><title>0.0</title></rect><rect height=\"26.25\" style=\"fill:rgb(2%,18.8%,38%);fill-opacity:1.0;stroke:none\" width=\"26.25\" x=\"378.75\" y=\"116.25\"><title>0.0</title></rect><rect height=\"26.25\" style=\"fill:rgb(2%,18.8%,38%);fill-opacity:1.0;stroke:none\" width=\"26.25\" x=\"405.0\" y=\"116.25\"><title>0.0</title></rect><rect height=\"26.25\" style=\"fill:rgb(2%,18.8%,38%);fill-opacity:1.0;stroke:none\" width=\"26.25\" x=\"431.25\" y=\"116.25\"><title>0.0</title></rect><rect height=\"26.25\" style=\"fill:rgb(2%,18.8%,38%);fill-opacity:1.0;stroke:none\" width=\"26.25\" x=\"457.5\" y=\"116.25\"><title>0.0</title></rect><rect height=\"26.25\" style=\"fill:rgb(2%,18.8%,38%);fill-opacity:1.0;stroke:none\" width=\"26.25\" x=\"483.75\" y=\"116.25\"><title>0.0</title></rect><g transform=\"translate(85.0,155.625)\"><text style=\"fill:rgb(16.1%,15.3%,14.1%);fill-opacity:1.0;font-family:helvetica;font-size:12.0px;font-weight:normal;stroke:none;vertical-align:baseline;white-space:pre\" x=\"-6.672000000000001\" y=\"3.066\">2</text></g><rect height=\"26.25\" style=\"fill:rgb(96.9%,96.9%,96.9%);fill-opacity:1.0;stroke:none\" width=\"26.25\" x=\"90.0\" y=\"142.5\"><title>0.23076923191547394</title></rect><rect height=\"26.25\" style=\"fill:rgb(2%,18.8%,38%);fill-opacity:1.0;stroke:none\" width=\"26.25\" x=\"116.25\" y=\"142.5\"><title>0.0</title></rect><rect height=\"26.25\" style=\"fill:rgb(8.1%,30.6%,54.4%);fill-opacity:1.0;stroke:none\" width=\"26.25\" x=\"142.5\" y=\"142.5\"><title>0.025641025975346565</title></rect><rect height=\"26.25\" style=\"fill:rgb(2%,18.8%,38%);fill-opacity:1.0;stroke:none\" width=\"26.25\" x=\"168.75\" y=\"142.5\"><title>0.0</title></rect><rect height=\"26.25\" style=\"fill:rgb(2%,18.8%,38%);fill-opacity:1.0;stroke:none\" width=\"26.25\" x=\"195.0\" y=\"142.5\"><title>0.0</title></rect><rect height=\"26.25\" style=\"fill:rgb(2%,18.8%,38%);fill-opacity:1.0;stroke:none\" width=\"26.25\" x=\"221.25\" y=\"142.5\"><title>0.0</title></rect><rect height=\"26.25\" style=\"fill:rgb(2%,18.8%,38%);fill-opacity:1.0;stroke:none\" width=\"26.25\" x=\"247.5\" y=\"142.5\"><title>0.0</title></rect><rect height=\"26.25\" style=\"fill:rgb(2%,18.8%,38%);fill-opacity:1.0;stroke:none\" width=\"26.25\" x=\"273.75\" y=\"142.5\"><title>0.0</title></rect><rect height=\"26.25\" style=\"fill:rgb(2%,18.8%,38%);fill-opacity:1.0;stroke:none\" width=\"26.25\" x=\"300.0\" y=\"142.5\"><title>0.0</title></rect><rect height=\"26.25\" style=\"fill:rgb(2%,18.8%,38%);fill-opacity:1.0;stroke:none\" width=\"26.25\" x=\"326.25\" y=\"142.5\"><title>0.0</title></rect><rect height=\"26.25\" style=\"fill:rgb(96.9%,71.8%,60%);fill-opacity:1.0;stroke:none\" width=\"26.25\" x=\"352.5\" y=\"142.5\"><title>0.3076923191547394</title></rect><rect height=\"26.25\" style=\"fill:rgb(2%,18.8%,38%);fill-opacity:1.0;stroke:none\" width=\"26.25\" x=\"378.75\" y=\"142.5\"><title>0.0</title></rect><rect height=\"26.25\" style=\"fill:rgb(2%,18.8%,38%);fill-opacity:1.0;stroke:none\" width=\"26.25\" x=\"405.0\" y=\"142.5\"><title>0.0</title></rect><rect height=\"26.25\" style=\"fill:rgb(2%,18.8%,38%);fill-opacity:1.0;stroke:none\" width=\"26.25\" x=\"431.25\" y=\"142.5\"><title>0.0</title></rect><rect height=\"26.25\" style=\"fill:rgb(2%,18.8%,38%);fill-opacity:1.0;stroke:none\" width=\"26.25\" x=\"457.5\" y=\"142.5\"><title>0.0</title></rect><rect height=\"26.25\" style=\"fill:rgb(2%,18.8%,38%);fill-opacity:1.0;stroke:none\" width=\"26.25\" x=\"483.75\" y=\"142.5\"><title>0.0</title></rect><g transform=\"translate(85.0,181.875)\"><text style=\"fill:rgb(16.1%,15.3%,14.1%);fill-opacity:1.0;font-family:helvetica;font-size:12.0px;font-weight:normal;stroke:none;vertical-align:baseline;white-space:pre\" x=\"-6.672000000000001\" y=\"3.066\">3</text></g><rect height=\"26.25\" style=\"fill:rgb(58.6%,78%,87.5%);fill-opacity:1.0;stroke:none\" width=\"26.25\" x=\"90.0\" y=\"168.75\"><title>0.14102564752101898</title></rect><rect height=\"26.25\" style=\"fill:rgb(2%,18.8%,38%);fill-opacity:1.0;stroke:none\" width=\"26.25\" x=\"116.25\" y=\"168.75\"><title>0.0</title></rect><rect height=\"26.25\" style=\"fill:rgb(2%,18.8%,38%);fill-opacity:1.0;stroke:none\" width=\"26.25\" x=\"142.5\" y=\"168.75\"><title>0.0</title></rect><rect height=\"26.25\" style=\"fill:rgb(18.1%,46.9%,71%);fill-opacity:1.0;stroke:none\" width=\"26.25\" x=\"168.75\" y=\"168.75\"><title>0.06410256773233414</title></rect><rect height=\"26.25\" style=\"fill:rgb(2%,18.8%,38%);fill-opacity:1.0;stroke:none\" width=\"26.25\" x=\"195.0\" y=\"168.75\"><title>0.0</title></rect><rect height=\"26.25\" style=\"fill:rgb(2%,18.8%,38%);fill-opacity:1.0;stroke:none\" width=\"26.25\" x=\"221.25\" y=\"168.75\"><title>0.0</title></rect><rect height=\"26.25\" style=\"fill:rgb(2%,18.8%,38%);fill-opacity:1.0;stroke:none\" width=\"26.25\" x=\"247.5\" y=\"168.75\"><title>0.0</title></rect><rect height=\"26.25\" style=\"fill:rgb(2%,18.8%,38%);fill-opacity:1.0;stroke:none\" width=\"26.25\" x=\"273.75\" y=\"168.75\"><title>0.0</title></rect><rect height=\"26.25\" style=\"fill:rgb(2%,18.8%,38%);fill-opacity:1.0;stroke:none\" width=\"26.25\" x=\"300.0\" y=\"168.75\"><title>0.0</title></rect><rect height=\"26.25\" style=\"fill:rgb(2%,18.8%,38%);fill-opacity:1.0;stroke:none\" width=\"26.25\" x=\"326.25\" y=\"168.75\"><title>0.0</title></rect><rect height=\"26.25\" style=\"fill:rgb(2%,18.8%,38%);fill-opacity:1.0;stroke:none\" width=\"26.25\" x=\"352.5\" y=\"168.75\"><title>0.0</title></rect><rect height=\"26.25\" style=\"fill:rgb(2%,18.8%,38%);fill-opacity:1.0;stroke:none\" width=\"26.25\" x=\"378.75\" y=\"168.75\"><title>0.0</title></rect><rect height=\"26.25\" style=\"fill:rgb(2%,18.8%,38%);fill-opacity:1.0;stroke:none\" width=\"26.25\" x=\"405.0\" y=\"168.75\"><title>0.0</title></rect><rect height=\"26.25\" style=\"fill:rgb(2%,18.8%,38%);fill-opacity:1.0;stroke:none\" width=\"26.25\" x=\"431.25\" y=\"168.75\"><title>0.0</title></rect><rect height=\"26.25\" style=\"fill:rgb(2%,18.8%,38%);fill-opacity:1.0;stroke:none\" width=\"26.25\" x=\"457.5\" y=\"168.75\"><title>0.0</title></rect><rect height=\"26.25\" style=\"fill:rgb(86.5%,43.7%,34.8%);fill-opacity:1.0;stroke:none\" width=\"26.25\" x=\"483.75\" y=\"168.75\"><title>0.3589743673801422</title></rect><g transform=\"translate(85.0,208.125)\"><text style=\"fill:rgb(16.1%,15.3%,14.1%);fill-opacity:1.0;font-family:helvetica;font-size:12.0px;font-weight:normal;stroke:none;vertical-align:baseline;white-space:pre\" x=\"-6.672000000000001\" y=\"3.066\">4</text></g><rect height=\"26.25\" style=\"fill:rgb(71.4%,12.5%,18.3%);fill-opacity:1.0;stroke:none\" width=\"26.25\" x=\"90.0\" y=\"195.0\"><title>0.41025641560554504</title></rect><rect height=\"26.25\" style=\"fill:rgb(5%,24.7%,46.2%);fill-opacity:1.0;stroke:none\" width=\"26.25\" x=\"116.25\" y=\"195.0\"><title>0.012820512987673283</title></rect><rect height=\"26.25\" style=\"fill:rgb(2%,18.8%,38%);fill-opacity:1.0;stroke:none\" width=\"26.25\" x=\"142.5\" y=\"195.0\"><title>0.0</title></rect><rect height=\"26.25\" style=\"fill:rgb(2%,18.8%,38%);fill-opacity:1.0;stroke:none\" width=\"26.25\" x=\"168.75\" y=\"195.0\"><title>0.0</title></rect><rect height=\"26.25\" style=\"fill:rgb(21.8%,51.8%,73.5%);fill-opacity:1.0;stroke:none\" width=\"26.25\" x=\"195.0\" y=\"195.0\"><title>0.07692307978868484</title></rect><rect height=\"26.25\" style=\"fill:rgb(41.8%,67.5%,81.8%);fill-opacity:1.0;stroke:none\" width=\"26.25\" x=\"221.25\" y=\"195.0\"><title>0.11538461595773697</title></rect><rect height=\"26.25\" style=\"fill:rgb(2%,18.8%,38%);fill-opacity:1.0;stroke:none\" width=\"26.25\" x=\"247.5\" y=\"195.0\"><title>0.0</title></rect><rect height=\"26.25\" style=\"fill:rgb(2%,18.8%,38%);fill-opacity:1.0;stroke:none\" width=\"26.25\" x=\"273.75\" y=\"195.0\"><title>0.0</title></rect><rect height=\"26.25\" style=\"fill:rgb(2%,18.8%,38%);fill-opacity:1.0;stroke:none\" width=\"26.25\" x=\"300.0\" y=\"195.0\"><title>0.0</title></rect><rect height=\"26.25\" style=\"fill:rgb(2%,18.8%,38%);fill-opacity:1.0;stroke:none\" width=\"26.25\" x=\"326.25\" y=\"195.0\"><title>0.0</title></rect><rect height=\"26.25\" style=\"fill:rgb(2%,18.8%,38%);fill-opacity:1.0;stroke:none\" width=\"26.25\" x=\"352.5\" y=\"195.0\"><title>0.0</title></rect><rect height=\"26.25\" style=\"fill:rgb(2%,18.8%,38%);fill-opacity:1.0;stroke:none\" width=\"26.25\" x=\"378.75\" y=\"195.0\"><title>0.0</title></rect><rect height=\"26.25\" style=\"fill:rgb(2%,18.8%,38%);fill-opacity:1.0;stroke:none\" width=\"26.25\" x=\"405.0\" y=\"195.0\"><title>0.0</title></rect><rect height=\"26.25\" style=\"fill:rgb(2%,18.8%,38%);fill-opacity:1.0;stroke:none\" width=\"26.25\" x=\"431.25\" y=\"195.0\"><title>0.0</title></rect><rect height=\"26.25\" style=\"fill:rgb(2%,18.8%,38%);fill-opacity:1.0;stroke:none\" width=\"26.25\" x=\"457.5\" y=\"195.0\"><title>0.0</title></rect><rect height=\"26.25\" style=\"fill:rgb(2%,18.8%,38%);fill-opacity:1.0;stroke:none\" width=\"26.25\" x=\"483.75\" y=\"195.0\"><title>0.0</title></rect><g transform=\"translate(85.0,234.375)\"><text style=\"fill:rgb(16.1%,15.3%,14.1%);fill-opacity:1.0;font-family:helvetica;font-size:12.0px;font-weight:normal;stroke:none;vertical-align:baseline;white-space:pre\" x=\"-6.672000000000001\" y=\"3.066\">5</text></g><rect height=\"26.25\" style=\"fill:rgb(8.1%,30.6%,54.4%);fill-opacity:1.0;stroke:none\" width=\"26.25\" x=\"90.0\" y=\"221.25\"><title>0.025641025975346565</title></rect><rect height=\"26.25\" style=\"fill:rgb(65.5%,81.4%,89.4%);fill-opacity:1.0;stroke:none\" width=\"26.25\" x=\"116.25\" y=\"221.25\"><title>0.1538461595773697</title></rect><rect height=\"26.25\" style=\"fill:rgb(2%,18.8%,38%);fill-opacity:1.0;stroke:none\" width=\"26.25\" x=\"142.5\" y=\"221.25\"><title>0.0</title></rect><rect height=\"26.25\" style=\"fill:rgb(2%,18.8%,38%);fill-opacity:1.0;stroke:none\" width=\"26.25\" x=\"168.75\" y=\"221.25\"><title>0.0</title></rect><rect height=\"26.25\" style=\"fill:rgb(58.6%,78%,87.5%);fill-opacity:1.0;stroke:none\" width=\"26.25\" x=\"195.0\" y=\"221.25\"><title>0.14102564752101898</title></rect><rect height=\"26.25\" style=\"fill:rgb(86.5%,43.7%,34.8%);fill-opacity:1.0;stroke:none\" width=\"26.25\" x=\"221.25\" y=\"221.25\"><title>0.3589743673801422</title></rect><rect height=\"26.25\" style=\"fill:rgb(58.6%,78%,87.5%);fill-opacity:1.0;stroke:none\" width=\"26.25\" x=\"247.5\" y=\"221.25\"><title>0.14102564752101898</title></rect><rect height=\"26.25\" style=\"fill:rgb(21.8%,51.8%,73.5%);fill-opacity:1.0;stroke:none\" width=\"26.25\" x=\"273.75\" y=\"221.25\"><title>0.07692307978868484</title></rect><rect height=\"26.25\" style=\"fill:rgb(2%,18.8%,38%);fill-opacity:1.0;stroke:none\" width=\"26.25\" x=\"300.0\" y=\"221.25\"><title>0.0</title></rect><rect height=\"26.25\" style=\"fill:rgb(98.2%,90.8%,86.4%);fill-opacity:1.0;stroke:none\" width=\"26.25\" x=\"326.25\" y=\"221.25\"><title>0.25641027092933655</title></rect><rect height=\"26.25\" style=\"fill:rgb(14.4%,42%,68.5%);fill-opacity:1.0;stroke:none\" width=\"26.25\" x=\"352.5\" y=\"221.25\"><title>0.05128205195069313</title></rect><rect height=\"26.25\" style=\"fill:rgb(2%,18.8%,38%);fill-opacity:1.0;stroke:none\" width=\"26.25\" x=\"378.75\" y=\"221.25\"><title>0.0</title></rect><rect height=\"26.25\" style=\"fill:rgb(2%,18.8%,38%);fill-opacity:1.0;stroke:none\" width=\"26.25\" x=\"405.0\" y=\"221.25\"><title>0.0</title></rect><rect height=\"26.25\" style=\"fill:rgb(79.2%,88.4%,93.3%);fill-opacity:1.0;stroke:none\" width=\"26.25\" x=\"431.25\" y=\"221.25\"><title>0.1794871836900711</title></rect><rect height=\"26.25\" style=\"fill:rgb(2%,18.8%,38%);fill-opacity:1.0;stroke:none\" width=\"26.25\" x=\"457.5\" y=\"221.25\"><title>0.0</title></rect><rect height=\"26.25\" style=\"fill:rgb(14.4%,42%,68.5%);fill-opacity:1.0;stroke:none\" width=\"26.25\" x=\"483.75\" y=\"221.25\"><title>0.05128205195069313</title></rect><g transform=\"translate(85.0,260.625)\"><text style=\"fill:rgb(16.1%,15.3%,14.1%);fill-opacity:1.0;font-family:helvetica;font-size:12.0px;font-weight:normal;stroke:none;vertical-align:baseline;white-space:pre\" x=\"-6.672000000000001\" y=\"3.066\">6</text></g><rect height=\"26.25\" style=\"fill:rgb(2%,18.8%,38%);fill-opacity:1.0;stroke:none\" width=\"26.25\" x=\"90.0\" y=\"247.5\"><title>0.0</title></rect><rect height=\"26.25\" style=\"fill:rgb(2%,18.8%,38%);fill-opacity:1.0;stroke:none\" width=\"26.25\" x=\"116.25\" y=\"247.5\"><title>0.0</title></rect><rect height=\"26.25\" style=\"fill:rgb(2%,18.8%,38%);fill-opacity:1.0;stroke:none\" width=\"26.25\" x=\"142.5\" y=\"247.5\"><title>0.0</title></rect><rect height=\"26.25\" style=\"fill:rgb(2%,18.8%,38%);fill-opacity:1.0;stroke:none\" width=\"26.25\" x=\"168.75\" y=\"247.5\"><title>0.0</title></rect><rect height=\"26.25\" style=\"fill:rgb(2%,18.8%,38%);fill-opacity:1.0;stroke:none\" width=\"26.25\" x=\"195.0\" y=\"247.5\"><title>0.0</title></rect><rect height=\"26.25\" style=\"fill:rgb(79.2%,88.4%,93.3%);fill-opacity:1.0;stroke:none\" width=\"26.25\" x=\"221.25\" y=\"247.5\"><title>0.1794871836900711</title></rect><rect height=\"26.25\" style=\"fill:rgb(18.1%,46.9%,71%);fill-opacity:1.0;stroke:none\" width=\"26.25\" x=\"247.5\" y=\"247.5\"><title>0.06410256773233414</title></rect><rect height=\"26.25\" style=\"fill:rgb(2%,18.8%,38%);fill-opacity:1.0;stroke:none\" width=\"26.25\" x=\"273.75\" y=\"247.5\"><title>0.0</title></rect><rect height=\"26.25\" style=\"fill:rgb(2%,18.8%,38%);fill-opacity:1.0;stroke:none\" width=\"26.25\" x=\"300.0\" y=\"247.5\"><title>0.0</title></rect><rect height=\"26.25\" style=\"fill:rgb(2%,18.8%,38%);fill-opacity:1.0;stroke:none\" width=\"26.25\" x=\"326.25\" y=\"247.5\"><title>0.0</title></rect><rect height=\"26.25\" style=\"fill:rgb(96.9%,96.9%,96.9%);fill-opacity:1.0;stroke:none\" width=\"26.25\" x=\"352.5\" y=\"247.5\"><title>0.23076923191547394</title></rect><rect height=\"26.25\" style=\"fill:rgb(2%,18.8%,38%);fill-opacity:1.0;stroke:none\" width=\"26.25\" x=\"378.75\" y=\"247.5\"><title>0.0</title></rect><rect height=\"26.25\" style=\"fill:rgb(2%,18.8%,38%);fill-opacity:1.0;stroke:none\" width=\"26.25\" x=\"405.0\" y=\"247.5\"><title>0.0</title></rect><rect height=\"26.25\" style=\"fill:rgb(2%,18.8%,38%);fill-opacity:1.0;stroke:none\" width=\"26.25\" x=\"431.25\" y=\"247.5\"><title>0.0</title></rect><rect height=\"26.25\" style=\"fill:rgb(2%,18.8%,38%);fill-opacity:1.0;stroke:none\" width=\"26.25\" x=\"457.5\" y=\"247.5\"><title>0.0</title></rect><rect height=\"26.25\" style=\"fill:rgb(2%,18.8%,38%);fill-opacity:1.0;stroke:none\" width=\"26.25\" x=\"483.75\" y=\"247.5\"><title>0.0</title></rect><g transform=\"translate(85.0,286.875)\"><text style=\"fill:rgb(16.1%,15.3%,14.1%);fill-opacity:1.0;font-family:helvetica;font-size:12.0px;font-weight:normal;stroke:none;vertical-align:baseline;white-space:pre\" x=\"-6.672000000000001\" y=\"3.066\">7</text></g><rect height=\"26.25\" style=\"fill:rgb(2%,18.8%,38%);fill-opacity:1.0;stroke:none\" width=\"26.25\" x=\"90.0\" y=\"273.75\"><title>0.0</title></rect><rect height=\"26.25\" style=\"fill:rgb(2%,18.8%,38%);fill-opacity:1.0;stroke:none\" width=\"26.25\" x=\"116.25\" y=\"273.75\"><title>0.0</title></rect><rect height=\"26.25\" style=\"fill:rgb(2%,18.8%,38%);fill-opacity:1.0;stroke:none\" width=\"26.25\" x=\"142.5\" y=\"273.75\"><title>0.0</title></rect><rect height=\"26.25\" style=\"fill:rgb(2%,18.8%,38%);fill-opacity:1.0;stroke:none\" width=\"26.25\" x=\"168.75\" y=\"273.75\"><title>0.0</title></rect><rect height=\"26.25\" style=\"fill:rgb(2%,18.8%,38%);fill-opacity:1.0;stroke:none\" width=\"26.25\" x=\"195.0\" y=\"273.75\"><title>0.0</title></rect><rect height=\"26.25\" style=\"fill:rgb(65.5%,81.4%,89.4%);fill-opacity:1.0;stroke:none\" width=\"26.25\" x=\"221.25\" y=\"273.75\"><title>0.1538461595773697</title></rect><rect height=\"26.25\" style=\"fill:rgb(2%,18.8%,38%);fill-opacity:1.0;stroke:none\" width=\"26.25\" x=\"247.5\" y=\"273.75\"><title>0.0</title></rect><rect height=\"26.25\" style=\"fill:rgb(33.2%,62%,78.8%);fill-opacity:1.0;stroke:none\" width=\"26.25\" x=\"273.75\" y=\"273.75\"><title>0.10256410390138626</title></rect><rect height=\"26.25\" style=\"fill:rgb(2%,18.8%,38%);fill-opacity:1.0;stroke:none\" width=\"26.25\" x=\"300.0\" y=\"273.75\"><title>0.0</title></rect><rect height=\"26.25\" style=\"fill:rgb(2%,18.8%,38%);fill-opacity:1.0;stroke:none\" width=\"26.25\" x=\"326.25\" y=\"273.75\"><title>0.0</title></rect><rect height=\"26.25\" style=\"fill:rgb(2%,18.8%,38%);fill-opacity:1.0;stroke:none\" width=\"26.25\" x=\"352.5\" y=\"273.75\"><title>0.0</title></rect><rect height=\"26.25\" style=\"fill:rgb(2%,18.8%,38%);fill-opacity:1.0;stroke:none\" width=\"26.25\" x=\"378.75\" y=\"273.75\"><title>0.0</title></rect><rect height=\"26.25\" style=\"fill:rgb(2%,18.8%,38%);fill-opacity:1.0;stroke:none\" width=\"26.25\" x=\"405.0\" y=\"273.75\"><title>0.0</title></rect><rect height=\"26.25\" style=\"fill:rgb(2%,18.8%,38%);fill-opacity:1.0;stroke:none\" width=\"26.25\" x=\"431.25\" y=\"273.75\"><title>0.0</title></rect><rect height=\"26.25\" style=\"fill:rgb(2%,18.8%,38%);fill-opacity:1.0;stroke:none\" width=\"26.25\" x=\"457.5\" y=\"273.75\"><title>0.0</title></rect><rect height=\"26.25\" style=\"fill:rgb(83.1%,36.1%,29.5%);fill-opacity:1.0;stroke:none\" width=\"26.25\" x=\"483.75\" y=\"273.75\"><title>0.3717948794364929</title></rect><g transform=\"translate(85.0,313.125)\"><text style=\"fill:rgb(16.1%,15.3%,14.1%);fill-opacity:1.0;font-family:helvetica;font-size:12.0px;font-weight:normal;stroke:none;vertical-align:baseline;white-space:pre\" x=\"-6.672000000000001\" y=\"3.066\">8</text></g><rect height=\"26.25\" style=\"fill:rgb(88.6%,92.9%,95.3%);fill-opacity:1.0;stroke:none\" width=\"26.25\" x=\"90.0\" y=\"300.0\"><title>0.20512820780277252</title></rect><rect height=\"26.25\" style=\"fill:rgb(2%,18.8%,38%);fill-opacity:1.0;stroke:none\" width=\"26.25\" x=\"116.25\" y=\"300.0\"><title>0.0</title></rect><rect height=\"26.25\" style=\"fill:rgb(2%,18.8%,38%);fill-opacity:1.0;stroke:none\" width=\"26.25\" x=\"142.5\" y=\"300.0\"><title>0.0</title></rect><rect height=\"26.25\" style=\"fill:rgb(2%,18.8%,38%);fill-opacity:1.0;stroke:none\" width=\"26.25\" x=\"168.75\" y=\"300.0\"><title>0.0</title></rect><rect height=\"26.25\" style=\"fill:rgb(2%,18.8%,38%);fill-opacity:1.0;stroke:none\" width=\"26.25\" x=\"195.0\" y=\"300.0\"><title>0.0</title></rect><rect height=\"26.25\" style=\"fill:rgb(2%,18.8%,38%);fill-opacity:1.0;stroke:none\" width=\"26.25\" x=\"221.25\" y=\"300.0\"><title>0.0</title></rect><rect height=\"26.25\" style=\"fill:rgb(2%,18.8%,38%);fill-opacity:1.0;stroke:none\" width=\"26.25\" x=\"247.5\" y=\"300.0\"><title>0.0</title></rect><rect height=\"26.25\" style=\"fill:rgb(2%,18.8%,38%);fill-opacity:1.0;stroke:none\" width=\"26.25\" x=\"273.75\" y=\"300.0\"><title>0.0</title></rect><rect height=\"26.25\" style=\"fill:rgb(11.1%,36.5%,62.5%);fill-opacity:1.0;stroke:none\" width=\"26.25\" x=\"300.0\" y=\"300.0\"><title>0.03846153989434242</title></rect><rect height=\"26.25\" style=\"fill:rgb(2%,18.8%,38%);fill-opacity:1.0;stroke:none\" width=\"26.25\" x=\"326.25\" y=\"300.0\"><title>0.0</title></rect><rect height=\"26.25\" style=\"fill:rgb(79.2%,88.4%,93.3%);fill-opacity:1.0;stroke:none\" width=\"26.25\" x=\"352.5\" y=\"300.0\"><title>0.1794871836900711</title></rect><rect height=\"26.25\" style=\"fill:rgb(2%,18.8%,38%);fill-opacity:1.0;stroke:none\" width=\"26.25\" x=\"378.75\" y=\"300.0\"><title>0.0</title></rect><rect height=\"26.25\" style=\"fill:rgb(2%,18.8%,38%);fill-opacity:1.0;stroke:none\" width=\"26.25\" x=\"405.0\" y=\"300.0\"><title>0.0</title></rect><rect height=\"26.25\" style=\"fill:rgb(2%,18.8%,38%);fill-opacity:1.0;stroke:none\" width=\"26.25\" x=\"431.25\" y=\"300.0\"><title>0.0</title></rect><rect height=\"26.25\" style=\"fill:rgb(2%,18.8%,38%);fill-opacity:1.0;stroke:none\" width=\"26.25\" x=\"457.5\" y=\"300.0\"><title>0.0</title></rect><rect height=\"26.25\" style=\"fill:rgb(2%,18.8%,38%);fill-opacity:1.0;stroke:none\" width=\"26.25\" x=\"483.75\" y=\"300.0\"><title>0.0</title></rect><g transform=\"translate(85.0,339.375)\"><text style=\"fill:rgb(16.1%,15.3%,14.1%);fill-opacity:1.0;font-family:helvetica;font-size:12.0px;font-weight:normal;stroke:none;vertical-align:baseline;white-space:pre\" x=\"-6.672000000000001\" y=\"3.066\">9</text></g><rect height=\"26.25\" style=\"fill:rgb(2%,18.8%,38%);fill-opacity:1.0;stroke:none\" width=\"26.25\" x=\"90.0\" y=\"326.25\"><title>0.0</title></rect><rect height=\"26.25\" style=\"fill:rgb(2%,18.8%,38%);fill-opacity:1.0;stroke:none\" width=\"26.25\" x=\"116.25\" y=\"326.25\"><title>0.0</title></rect><rect height=\"26.25\" style=\"fill:rgb(2%,18.8%,38%);fill-opacity:1.0;stroke:none\" width=\"26.25\" x=\"142.5\" y=\"326.25\"><title>0.0</title></rect><rect height=\"26.25\" style=\"fill:rgb(2%,18.8%,38%);fill-opacity:1.0;stroke:none\" width=\"26.25\" x=\"168.75\" y=\"326.25\"><title>0.0</title></rect><rect height=\"26.25\" style=\"fill:rgb(2%,18.8%,38%);fill-opacity:1.0;stroke:none\" width=\"26.25\" x=\"195.0\" y=\"326.25\"><title>0.0</title></rect><rect height=\"26.25\" style=\"fill:rgb(98.8%,83.5%,75%);fill-opacity:1.0;stroke:none\" width=\"26.25\" x=\"221.25\" y=\"326.25\"><title>0.28205129504203796</title></rect><rect height=\"26.25\" style=\"fill:rgb(2%,18.8%,38%);fill-opacity:1.0;stroke:none\" width=\"26.25\" x=\"247.5\" y=\"326.25\"><title>0.0</title></rect><rect height=\"26.25\" style=\"fill:rgb(2%,18.8%,38%);fill-opacity:1.0;stroke:none\" width=\"26.25\" x=\"273.75\" y=\"326.25\"><title>0.0</title></rect><rect height=\"26.25\" style=\"fill:rgb(2%,18.8%,38%);fill-opacity:1.0;stroke:none\" width=\"26.25\" x=\"300.0\" y=\"326.25\"><title>0.0</title></rect><rect height=\"26.25\" style=\"fill:rgb(14.4%,42%,68.5%);fill-opacity:1.0;stroke:none\" width=\"26.25\" x=\"326.25\" y=\"326.25\"><title>0.05128205195069313</title></rect><rect height=\"26.25\" style=\"fill:rgb(14.4%,42%,68.5%);fill-opacity:1.0;stroke:none\" width=\"26.25\" x=\"352.5\" y=\"326.25\"><title>0.05128205195069313</title></rect><rect height=\"26.25\" style=\"fill:rgb(2%,18.8%,38%);fill-opacity:1.0;stroke:none\" width=\"26.25\" x=\"378.75\" y=\"326.25\"><title>0.0</title></rect><rect height=\"26.25\" style=\"fill:rgb(2%,18.8%,38%);fill-opacity:1.0;stroke:none\" width=\"26.25\" x=\"405.0\" y=\"326.25\"><title>0.0</title></rect><rect height=\"26.25\" style=\"fill:rgb(2%,18.8%,38%);fill-opacity:1.0;stroke:none\" width=\"26.25\" x=\"431.25\" y=\"326.25\"><title>0.0</title></rect><rect height=\"26.25\" style=\"fill:rgb(2%,18.8%,38%);fill-opacity:1.0;stroke:none\" width=\"26.25\" x=\"457.5\" y=\"326.25\"><title>0.0</title></rect><rect height=\"26.25\" style=\"fill:rgb(2%,18.8%,38%);fill-opacity:1.0;stroke:none\" width=\"26.25\" x=\"483.75\" y=\"326.25\"><title>0.0</title></rect><g transform=\"translate(85.0,365.625)\"><text style=\"fill:rgb(16.1%,15.3%,14.1%);fill-opacity:1.0;font-family:helvetica;font-size:12.0px;font-weight:normal;stroke:none;vertical-align:baseline;white-space:pre\" x=\"-13.344000000000001\" y=\"3.066\">10</text></g><rect height=\"26.25\" style=\"fill:rgb(25.5%,56.7%,76%);fill-opacity:1.0;stroke:none\" width=\"26.25\" x=\"90.0\" y=\"352.5\"><title>0.08974359184503555</title></rect><rect height=\"26.25\" style=\"fill:rgb(2%,18.8%,38%);fill-opacity:1.0;stroke:none\" width=\"26.25\" x=\"116.25\" y=\"352.5\"><title>0.0</title></rect><rect height=\"26.25\" style=\"fill:rgb(92.7%,94.9%,96.1%);fill-opacity:1.0;stroke:none\" width=\"26.25\" x=\"142.5\" y=\"352.5\"><title>0.21794871985912323</title></rect><rect height=\"26.25\" style=\"fill:rgb(2%,18.8%,38%);fill-opacity:1.0;stroke:none\" width=\"26.25\" x=\"168.75\" y=\"352.5\"><title>0.0</title></rect><rect height=\"26.25\" style=\"fill:rgb(2%,18.8%,38%);fill-opacity:1.0;stroke:none\" width=\"26.25\" x=\"195.0\" y=\"352.5\"><title>0.0</title></rect><rect height=\"26.25\" style=\"fill:rgb(14.4%,42%,68.5%);fill-opacity:1.0;stroke:none\" width=\"26.25\" x=\"221.25\" y=\"352.5\"><title>0.05128205195069313</title></rect><rect height=\"26.25\" style=\"fill:rgb(84.4%,91%,94.6%);fill-opacity:1.0;stroke:none\" width=\"26.25\" x=\"247.5\" y=\"352.5\"><title>0.19230769574642181</title></rect><rect height=\"26.25\" style=\"fill:rgb(2%,18.8%,38%);fill-opacity:1.0;stroke:none\" width=\"26.25\" x=\"273.75\" y=\"352.5\"><title>0.0</title></rect><rect height=\"26.25\" style=\"fill:rgb(58.6%,78%,87.5%);fill-opacity:1.0;stroke:none\" width=\"26.25\" x=\"300.0\" y=\"352.5\"><title>0.14102564752101898</title></rect><rect height=\"26.25\" style=\"fill:rgb(88.6%,92.9%,95.3%);fill-opacity:1.0;stroke:none\" width=\"26.25\" x=\"326.25\" y=\"352.5\"><title>0.20512820780277252</title></rect><rect height=\"26.25\" style=\"fill:rgb(96.9%,71.8%,60%);fill-opacity:1.0;stroke:none\" width=\"26.25\" x=\"352.5\" y=\"352.5\"><title>0.3076923191547394</title></rect><rect height=\"26.25\" style=\"fill:rgb(98.8%,87.7%,81.2%);fill-opacity:1.0;stroke:none\" width=\"26.25\" x=\"378.75\" y=\"352.5\"><title>0.26923078298568726</title></rect><rect height=\"26.25\" style=\"fill:rgb(2%,18.8%,38%);fill-opacity:1.0;stroke:none\" width=\"26.25\" x=\"405.0\" y=\"352.5\"><title>0.0</title></rect><rect height=\"26.25\" style=\"fill:rgb(2%,18.8%,38%);fill-opacity:1.0;stroke:none\" width=\"26.25\" x=\"431.25\" y=\"352.5\"><title>0.0</title></rect><rect height=\"26.25\" style=\"fill:rgb(50.4%,72.9%,84.7%);fill-opacity:1.0;stroke:none\" width=\"26.25\" x=\"457.5\" y=\"352.5\"><title>0.12820513546466827</title></rect><rect height=\"26.25\" style=\"fill:rgb(21.8%,51.8%,73.5%);fill-opacity:1.0;stroke:none\" width=\"26.25\" x=\"483.75\" y=\"352.5\"><title>0.07692307978868484</title></rect><g transform=\"translate(85.0,391.875)\"><text style=\"fill:rgb(16.1%,15.3%,14.1%);fill-opacity:1.0;font-family:helvetica;font-size:12.0px;font-weight:normal;stroke:none;vertical-align:baseline;white-space:pre\" x=\"-13.344000000000001\" y=\"3.066\">11</text></g><rect height=\"26.25\" style=\"fill:rgb(2%,18.8%,38%);fill-opacity:1.0;stroke:none\" width=\"26.25\" x=\"90.0\" y=\"378.75\"><title>0.0</title></rect><rect height=\"26.25\" style=\"fill:rgb(2%,18.8%,38%);fill-opacity:1.0;stroke:none\" width=\"26.25\" x=\"116.25\" y=\"378.75\"><title>0.0</title></rect><rect height=\"26.25\" style=\"fill:rgb(2%,18.8%,38%);fill-opacity:1.0;stroke:none\" width=\"26.25\" x=\"142.5\" y=\"378.75\"><title>0.0</title></rect><rect height=\"26.25\" style=\"fill:rgb(2%,18.8%,38%);fill-opacity:1.0;stroke:none\" width=\"26.25\" x=\"168.75\" y=\"378.75\"><title>0.0</title></rect><rect height=\"26.25\" style=\"fill:rgb(2%,18.8%,38%);fill-opacity:1.0;stroke:none\" width=\"26.25\" x=\"195.0\" y=\"378.75\"><title>0.0</title></rect><rect height=\"26.25\" style=\"fill:rgb(2%,18.8%,38%);fill-opacity:1.0;stroke:none\" width=\"26.25\" x=\"221.25\" y=\"378.75\"><title>0.0</title></rect><rect height=\"26.25\" style=\"fill:rgb(2%,18.8%,38%);fill-opacity:1.0;stroke:none\" width=\"26.25\" x=\"247.5\" y=\"378.75\"><title>0.0</title></rect><rect height=\"26.25\" style=\"fill:rgb(2%,18.8%,38%);fill-opacity:1.0;stroke:none\" width=\"26.25\" x=\"273.75\" y=\"378.75\"><title>0.0</title></rect><rect height=\"26.25\" style=\"fill:rgb(2%,18.8%,38%);fill-opacity:1.0;stroke:none\" width=\"26.25\" x=\"300.0\" y=\"378.75\"><title>0.0</title></rect><rect height=\"26.25\" style=\"fill:rgb(2%,18.8%,38%);fill-opacity:1.0;stroke:none\" width=\"26.25\" x=\"326.25\" y=\"378.75\"><title>0.0</title></rect><rect height=\"26.25\" style=\"fill:rgb(33.2%,62%,78.8%);fill-opacity:1.0;stroke:none\" width=\"26.25\" x=\"352.5\" y=\"378.75\"><title>0.10256410390138626</title></rect><rect height=\"26.25\" style=\"fill:rgb(33.2%,62%,78.8%);fill-opacity:1.0;stroke:none\" width=\"26.25\" x=\"378.75\" y=\"378.75\"><title>0.10256410390138626</title></rect><rect height=\"26.25\" style=\"fill:rgb(2%,18.8%,38%);fill-opacity:1.0;stroke:none\" width=\"26.25\" x=\"405.0\" y=\"378.75\"><title>0.0</title></rect><rect height=\"26.25\" style=\"fill:rgb(2%,18.8%,38%);fill-opacity:1.0;stroke:none\" width=\"26.25\" x=\"431.25\" y=\"378.75\"><title>0.0</title></rect><rect height=\"26.25\" style=\"fill:rgb(2%,18.8%,38%);fill-opacity:1.0;stroke:none\" width=\"26.25\" x=\"457.5\" y=\"378.75\"><title>0.0</title></rect><rect height=\"26.25\" style=\"fill:rgb(98.8%,87.7%,81.2%);fill-opacity:1.0;stroke:none\" width=\"26.25\" x=\"483.75\" y=\"378.75\"><title>0.26923078298568726</title></rect><g transform=\"translate(85.0,418.125)\"><text style=\"fill:rgb(16.1%,15.3%,14.1%);fill-opacity:1.0;font-family:helvetica;font-size:12.0px;font-weight:normal;stroke:none;vertical-align:baseline;white-space:pre\" x=\"-13.344000000000001\" y=\"3.066\">12</text></g><rect height=\"26.25\" style=\"fill:rgb(98.8%,83.5%,75%);fill-opacity:1.0;stroke:none\" width=\"26.25\" x=\"90.0\" y=\"405.0\"><title>0.28205129504203796</title></rect><rect height=\"26.25\" style=\"fill:rgb(2%,18.8%,38%);fill-opacity:1.0;stroke:none\" width=\"26.25\" x=\"116.25\" y=\"405.0\"><title>0.0</title></rect><rect height=\"26.25\" style=\"fill:rgb(2%,18.8%,38%);fill-opacity:1.0;stroke:none\" width=\"26.25\" x=\"142.5\" y=\"405.0\"><title>0.0</title></rect><rect height=\"26.25\" style=\"fill:rgb(5%,24.7%,46.2%);fill-opacity:1.0;stroke:none\" width=\"26.25\" x=\"168.75\" y=\"405.0\"><title>0.012820512987673283</title></rect><rect height=\"26.25\" style=\"fill:rgb(2%,18.8%,38%);fill-opacity:1.0;stroke:none\" width=\"26.25\" x=\"195.0\" y=\"405.0\"><title>0.0</title></rect><rect height=\"26.25\" style=\"fill:rgb(2%,18.8%,38%);fill-opacity:1.0;stroke:none\" width=\"26.25\" x=\"221.25\" y=\"405.0\"><title>0.0</title></rect><rect height=\"26.25\" style=\"fill:rgb(2%,18.8%,38%);fill-opacity:1.0;stroke:none\" width=\"26.25\" x=\"247.5\" y=\"405.0\"><title>0.0</title></rect><rect height=\"26.25\" style=\"fill:rgb(2%,18.8%,38%);fill-opacity:1.0;stroke:none\" width=\"26.25\" x=\"273.75\" y=\"405.0\"><title>0.0</title></rect><rect height=\"26.25\" style=\"fill:rgb(2%,18.8%,38%);fill-opacity:1.0;stroke:none\" width=\"26.25\" x=\"300.0\" y=\"405.0\"><title>0.0</title></rect><rect height=\"26.25\" style=\"fill:rgb(2%,18.8%,38%);fill-opacity:1.0;stroke:none\" width=\"26.25\" x=\"326.25\" y=\"405.0\"><title>0.0</title></rect><rect height=\"26.25\" style=\"fill:rgb(2%,18.8%,38%);fill-opacity:1.0;stroke:none\" width=\"26.25\" x=\"352.5\" y=\"405.0\"><title>0.0</title></rect><rect height=\"26.25\" style=\"fill:rgb(2%,18.8%,38%);fill-opacity:1.0;stroke:none\" width=\"26.25\" x=\"378.75\" y=\"405.0\"><title>0.0</title></rect><rect height=\"26.25\" style=\"fill:rgb(25.5%,56.7%,76%);fill-opacity:1.0;stroke:none\" width=\"26.25\" x=\"405.0\" y=\"405.0\"><title>0.08974359184503555</title></rect><rect height=\"26.25\" style=\"fill:rgb(2%,18.8%,38%);fill-opacity:1.0;stroke:none\" width=\"26.25\" x=\"431.25\" y=\"405.0\"><title>0.0</title></rect><rect height=\"26.25\" style=\"fill:rgb(2%,18.8%,38%);fill-opacity:1.0;stroke:none\" width=\"26.25\" x=\"457.5\" y=\"405.0\"><title>0.0</title></rect><rect height=\"26.25\" style=\"fill:rgb(79.2%,88.4%,93.3%);fill-opacity:1.0;stroke:none\" width=\"26.25\" x=\"483.75\" y=\"405.0\"><title>0.1794871836900711</title></rect><g transform=\"translate(85.0,444.375)\"><text style=\"fill:rgb(16.1%,15.3%,14.1%);fill-opacity:1.0;font-family:helvetica;font-size:12.0px;font-weight:normal;stroke:none;vertical-align:baseline;white-space:pre\" x=\"-13.344000000000001\" y=\"3.066\">13</text></g><rect height=\"26.25\" style=\"fill:rgb(2%,18.8%,38%);fill-opacity:1.0;stroke:none\" width=\"26.25\" x=\"90.0\" y=\"431.25\"><title>0.0</title></rect><rect height=\"26.25\" style=\"fill:rgb(2%,18.8%,38%);fill-opacity:1.0;stroke:none\" width=\"26.25\" x=\"116.25\" y=\"431.25\"><title>0.0</title></rect><rect height=\"26.25\" style=\"fill:rgb(2%,18.8%,38%);fill-opacity:1.0;stroke:none\" width=\"26.25\" x=\"142.5\" y=\"431.25\"><title>0.0</title></rect><rect height=\"26.25\" style=\"fill:rgb(2%,18.8%,38%);fill-opacity:1.0;stroke:none\" width=\"26.25\" x=\"168.75\" y=\"431.25\"><title>0.0</title></rect><rect height=\"26.25\" style=\"fill:rgb(2%,18.8%,38%);fill-opacity:1.0;stroke:none\" width=\"26.25\" x=\"195.0\" y=\"431.25\"><title>0.0</title></rect><rect height=\"26.25\" style=\"fill:rgb(84.4%,91%,94.6%);fill-opacity:1.0;stroke:none\" width=\"26.25\" x=\"221.25\" y=\"431.25\"><title>0.19230769574642181</title></rect><rect height=\"26.25\" style=\"fill:rgb(2%,18.8%,38%);fill-opacity:1.0;stroke:none\" width=\"26.25\" x=\"247.5\" y=\"431.25\"><title>0.0</title></rect><rect height=\"26.25\" style=\"fill:rgb(8.1%,30.6%,54.4%);fill-opacity:1.0;stroke:none\" width=\"26.25\" x=\"273.75\" y=\"431.25\"><title>0.025641025975346565</title></rect><rect height=\"26.25\" style=\"fill:rgb(2%,18.8%,38%);fill-opacity:1.0;stroke:none\" width=\"26.25\" x=\"300.0\" y=\"431.25\"><title>0.0</title></rect><rect height=\"26.25\" style=\"fill:rgb(2%,18.8%,38%);fill-opacity:1.0;stroke:none\" width=\"26.25\" x=\"326.25\" y=\"431.25\"><title>0.0</title></rect><rect height=\"26.25\" style=\"fill:rgb(2%,18.8%,38%);fill-opacity:1.0;stroke:none\" width=\"26.25\" x=\"352.5\" y=\"431.25\"><title>0.0</title></rect><rect height=\"26.25\" style=\"fill:rgb(2%,18.8%,38%);fill-opacity:1.0;stroke:none\" width=\"26.25\" x=\"378.75\" y=\"431.25\"><title>0.0</title></rect><rect height=\"26.25\" style=\"fill:rgb(2%,18.8%,38%);fill-opacity:1.0;stroke:none\" width=\"26.25\" x=\"405.0\" y=\"431.25\"><title>0.0</title></rect><rect height=\"26.25\" style=\"fill:rgb(21.8%,51.8%,73.5%);fill-opacity:1.0;stroke:none\" width=\"26.25\" x=\"431.25\" y=\"431.25\"><title>0.07692307978868484</title></rect><rect height=\"26.25\" style=\"fill:rgb(2%,18.8%,38%);fill-opacity:1.0;stroke:none\" width=\"26.25\" x=\"457.5\" y=\"431.25\"><title>0.0</title></rect><rect height=\"26.25\" style=\"fill:rgb(88.6%,92.9%,95.3%);fill-opacity:1.0;stroke:none\" width=\"26.25\" x=\"483.75\" y=\"431.25\"><title>0.20512820780277252</title></rect><g transform=\"translate(85.0,470.625)\"><text style=\"fill:rgb(16.1%,15.3%,14.1%);fill-opacity:1.0;font-family:helvetica;font-size:12.0px;font-weight:normal;stroke:none;vertical-align:baseline;white-space:pre\" x=\"-13.344000000000001\" y=\"3.066\">14</text></g><rect height=\"26.25\" style=\"fill:rgb(2%,18.8%,38%);fill-opacity:1.0;stroke:none\" width=\"26.25\" x=\"90.0\" y=\"457.5\"><title>0.0</title></rect><rect height=\"26.25\" style=\"fill:rgb(2%,18.8%,38%);fill-opacity:1.0;stroke:none\" width=\"26.25\" x=\"116.25\" y=\"457.5\"><title>0.0</title></rect><rect height=\"26.25\" style=\"fill:rgb(2%,18.8%,38%);fill-opacity:1.0;stroke:none\" width=\"26.25\" x=\"142.5\" y=\"457.5\"><title>0.0</title></rect><rect height=\"26.25\" style=\"fill:rgb(2%,18.8%,38%);fill-opacity:1.0;stroke:none\" width=\"26.25\" x=\"168.75\" y=\"457.5\"><title>0.0</title></rect><rect height=\"26.25\" style=\"fill:rgb(2%,18.8%,38%);fill-opacity:1.0;stroke:none\" width=\"26.25\" x=\"195.0\" y=\"457.5\"><title>0.0</title></rect><rect height=\"26.25\" style=\"fill:rgb(2%,18.8%,38%);fill-opacity:1.0;stroke:none\" width=\"26.25\" x=\"221.25\" y=\"457.5\"><title>0.0</title></rect><rect height=\"26.25\" style=\"fill:rgb(2%,18.8%,38%);fill-opacity:1.0;stroke:none\" width=\"26.25\" x=\"247.5\" y=\"457.5\"><title>0.0</title></rect><rect height=\"26.25\" style=\"fill:rgb(2%,18.8%,38%);fill-opacity:1.0;stroke:none\" width=\"26.25\" x=\"273.75\" y=\"457.5\"><title>0.0</title></rect><rect height=\"26.25\" style=\"fill:rgb(2%,18.8%,38%);fill-opacity:1.0;stroke:none\" width=\"26.25\" x=\"300.0\" y=\"457.5\"><title>0.0</title></rect><rect height=\"26.25\" style=\"fill:rgb(2%,18.8%,38%);fill-opacity:1.0;stroke:none\" width=\"26.25\" x=\"326.25\" y=\"457.5\"><title>0.0</title></rect><rect height=\"26.25\" style=\"fill:rgb(40.4%,0%,12.2%);fill-opacity:1.0;stroke:none\" width=\"26.25\" x=\"352.5\" y=\"457.5\"><title>0.4615384638309479</title></rect><rect height=\"26.25\" style=\"fill:rgb(2%,18.8%,38%);fill-opacity:1.0;stroke:none\" width=\"26.25\" x=\"378.75\" y=\"457.5\"><title>0.0</title></rect><rect height=\"26.25\" style=\"fill:rgb(2%,18.8%,38%);fill-opacity:1.0;stroke:none\" width=\"26.25\" x=\"405.0\" y=\"457.5\"><title>0.0</title></rect><rect height=\"26.25\" style=\"fill:rgb(2%,18.8%,38%);fill-opacity:1.0;stroke:none\" width=\"26.25\" x=\"431.25\" y=\"457.5\"><title>0.0</title></rect><rect height=\"26.25\" style=\"fill:rgb(18.1%,46.9%,71%);fill-opacity:1.0;stroke:none\" width=\"26.25\" x=\"457.5\" y=\"457.5\"><title>0.06410256773233414</title></rect><rect height=\"26.25\" style=\"fill:rgb(58.6%,78%,87.5%);fill-opacity:1.0;stroke:none\" width=\"26.25\" x=\"483.75\" y=\"457.5\"><title>0.14102564752101898</title></rect><g transform=\"translate(85.0,496.875)\"><text style=\"fill:rgb(16.1%,15.3%,14.1%);fill-opacity:1.0;font-family:helvetica;font-size:12.0px;font-weight:normal;stroke:none;vertical-align:baseline;white-space:pre\" x=\"-13.344000000000001\" y=\"3.066\">15</text></g><rect height=\"26.25\" style=\"fill:rgb(18.1%,46.9%,71%);fill-opacity:1.0;stroke:none\" width=\"26.25\" x=\"90.0\" y=\"483.75\"><title>0.06410256773233414</title></rect><rect height=\"26.25\" style=\"fill:rgb(2%,18.8%,38%);fill-opacity:1.0;stroke:none\" width=\"26.25\" x=\"116.25\" y=\"483.75\"><title>0.0</title></rect><rect height=\"26.25\" style=\"fill:rgb(2%,18.8%,38%);fill-opacity:1.0;stroke:none\" width=\"26.25\" x=\"142.5\" y=\"483.75\"><title>0.0</title></rect><rect height=\"26.25\" style=\"fill:rgb(88.6%,92.9%,95.3%);fill-opacity:1.0;stroke:none\" width=\"26.25\" x=\"168.75\" y=\"483.75\"><title>0.20512820780277252</title></rect><rect height=\"26.25\" style=\"fill:rgb(2%,18.8%,38%);fill-opacity:1.0;stroke:none\" width=\"26.25\" x=\"195.0\" y=\"483.75\"><title>0.0</title></rect><rect height=\"26.25\" style=\"fill:rgb(11.1%,36.5%,62.5%);fill-opacity:1.0;stroke:none\" width=\"26.25\" x=\"221.25\" y=\"483.75\"><title>0.03846153989434242</title></rect><rect height=\"26.25\" style=\"fill:rgb(2%,18.8%,38%);fill-opacity:1.0;stroke:none\" width=\"26.25\" x=\"247.5\" y=\"483.75\"><title>0.0</title></rect><rect height=\"26.25\" style=\"fill:rgb(88.6%,92.9%,95.3%);fill-opacity:1.0;stroke:none\" width=\"26.25\" x=\"273.75\" y=\"483.75\"><title>0.20512820780277252</title></rect><rect height=\"26.25\" style=\"fill:rgb(2%,18.8%,38%);fill-opacity:1.0;stroke:none\" width=\"26.25\" x=\"300.0\" y=\"483.75\"><title>0.0</title></rect><rect height=\"26.25\" style=\"fill:rgb(2%,18.8%,38%);fill-opacity:1.0;stroke:none\" width=\"26.25\" x=\"326.25\" y=\"483.75\"><title>0.0</title></rect><rect height=\"26.25\" style=\"fill:rgb(14.4%,42%,68.5%);fill-opacity:1.0;stroke:none\" width=\"26.25\" x=\"352.5\" y=\"483.75\"><title>0.05128205195069313</title></rect><rect height=\"26.25\" style=\"fill:rgb(58.6%,78%,87.5%);fill-opacity:1.0;stroke:none\" width=\"26.25\" x=\"378.75\" y=\"483.75\"><title>0.14102564752101898</title></rect><rect height=\"26.25\" style=\"fill:rgb(58.6%,78%,87.5%);fill-opacity:1.0;stroke:none\" width=\"26.25\" x=\"405.0\" y=\"483.75\"><title>0.14102564752101898</title></rect><rect height=\"26.25\" style=\"fill:rgb(41.8%,67.5%,81.8%);fill-opacity:1.0;stroke:none\" width=\"26.25\" x=\"431.25\" y=\"483.75\"><title>0.11538461595773697</title></rect><rect height=\"26.25\" style=\"fill:rgb(72.4%,84.9%,91.4%);fill-opacity:1.0;stroke:none\" width=\"26.25\" x=\"457.5\" y=\"483.75\"><title>0.1666666716337204</title></rect><rect height=\"26.25\" style=\"fill:rgb(86.5%,43.7%,34.8%);fill-opacity:1.0;stroke:none\" width=\"26.25\" x=\"483.75\" y=\"483.75\"><title>0.3589743673801422</title></rect></g></svg><div class=\"toyplot-behavior\"><script>(function()\n",
       "{\n",
       "var modules={};\n",
       "modules[\"toyplot/tables\"] = (function()\n",
       "    {\n",
       "        var tables = [];\n",
       "\n",
       "        var module = {};\n",
       "\n",
       "        module.set = function(owner, key, names, columns)\n",
       "        {\n",
       "            tables.push({owner: owner, key: key, names: names, columns: columns});\n",
       "        }\n",
       "\n",
       "        module.get = function(owner, key)\n",
       "        {\n",
       "            for(var i = 0; i != tables.length; ++i)\n",
       "            {\n",
       "                var table = tables[i];\n",
       "                if(table.owner != owner)\n",
       "                    continue;\n",
       "                if(table.key != key)\n",
       "                    continue;\n",
       "                return {names: table.names, columns: table.columns};\n",
       "            }\n",
       "        }\n",
       "\n",
       "        module.get_csv = function(owner, key)\n",
       "        {\n",
       "            var table = module.get(owner, key);\n",
       "            if(table != undefined)\n",
       "            {\n",
       "                var csv = \"\";\n",
       "                csv += table.names.join(\",\") + \"\\n\";\n",
       "                for(var i = 0; i != table.columns[0].length; ++i)\n",
       "                {\n",
       "                  for(var j = 0; j != table.columns.length; ++j)\n",
       "                  {\n",
       "                    if(j)\n",
       "                      csv += \",\";\n",
       "                    csv += table.columns[j][i];\n",
       "                  }\n",
       "                  csv += \"\\n\";\n",
       "                }\n",
       "                return csv;\n",
       "            }\n",
       "        }\n",
       "\n",
       "        return module;\n",
       "    })();\n",
       "modules[\"toyplot/root/id\"] = \"tefe752ff929847498c9c966c5e1d28f1\";\n",
       "modules[\"toyplot/root\"] = (function(root_id)\n",
       "    {\n",
       "        return document.querySelector(\"#\" + root_id);\n",
       "    })(modules[\"toyplot/root/id\"]);\n",
       "modules[\"toyplot/canvas/id\"] = \"ta49481af92b0460294c58d2fdd033e01\";\n",
       "modules[\"toyplot/canvas\"] = (function(canvas_id)\n",
       "    {\n",
       "        return document.querySelector(\"#\" + canvas_id);\n",
       "    })(modules[\"toyplot/canvas/id\"]);\n",
       "modules[\"toyplot/menus/context\"] = (function(root, canvas)\n",
       "    {\n",
       "        var wrapper = document.createElement(\"div\");\n",
       "        wrapper.innerHTML = \"<ul class='toyplot-context-menu' style='background:#eee; border:1px solid #b8b8b8; border-radius:5px; box-shadow: 0px 0px 8px rgba(0%,0%,0%,0.25); margin:0; padding:3px 0; position:fixed; visibility:hidden;'></ul>\"\n",
       "        var menu = wrapper.firstChild;\n",
       "\n",
       "        root.appendChild(menu);\n",
       "\n",
       "        var items = [];\n",
       "\n",
       "        var ignore_mouseup = null;\n",
       "        function open_menu(e)\n",
       "        {\n",
       "            var show_menu = false;\n",
       "            for(var index=0; index != items.length; ++index)\n",
       "            {\n",
       "                var item = items[index];\n",
       "                if(item.show(e))\n",
       "                {\n",
       "                    item.item.style.display = \"block\";\n",
       "                    show_menu = true;\n",
       "                }\n",
       "                else\n",
       "                {\n",
       "                    item.item.style.display = \"none\";\n",
       "                }\n",
       "            }\n",
       "\n",
       "            if(show_menu)\n",
       "            {\n",
       "                ignore_mouseup = true;\n",
       "                menu.style.left = (e.clientX + 1) + \"px\";\n",
       "                menu.style.top = (e.clientY - 5) + \"px\";\n",
       "                menu.style.visibility = \"visible\";\n",
       "                e.stopPropagation();\n",
       "                e.preventDefault();\n",
       "            }\n",
       "        }\n",
       "\n",
       "        function close_menu()\n",
       "        {\n",
       "            menu.style.visibility = \"hidden\";\n",
       "        }\n",
       "\n",
       "        function contextmenu(e)\n",
       "        {\n",
       "            open_menu(e);\n",
       "        }\n",
       "\n",
       "        function mousemove(e)\n",
       "        {\n",
       "            ignore_mouseup = false;\n",
       "        }\n",
       "\n",
       "        function mouseup(e)\n",
       "        {\n",
       "            if(ignore_mouseup)\n",
       "            {\n",
       "                ignore_mouseup = false;\n",
       "                return;\n",
       "            }\n",
       "            close_menu();\n",
       "        }\n",
       "\n",
       "        function keydown(e)\n",
       "        {\n",
       "            if(e.key == \"Escape\" || e.key == \"Esc\" || e.keyCode == 27)\n",
       "            {\n",
       "                close_menu();\n",
       "            }\n",
       "        }\n",
       "\n",
       "        canvas.addEventListener(\"contextmenu\", contextmenu);\n",
       "        canvas.addEventListener(\"mousemove\", mousemove);\n",
       "        document.addEventListener(\"mouseup\", mouseup);\n",
       "        document.addEventListener(\"keydown\", keydown);\n",
       "\n",
       "        var module = {};\n",
       "        module.add_item = function(label, show, activate)\n",
       "        {\n",
       "            var wrapper = document.createElement(\"div\");\n",
       "            wrapper.innerHTML = \"<li class='toyplot-context-menu-item' style='background:#eee; color:#333; padding:2px 20px; list-style:none; margin:0; text-align:left;'>\" + label + \"</li>\"\n",
       "            var item = wrapper.firstChild;\n",
       "\n",
       "            items.push({item: item, show: show});\n",
       "\n",
       "            function mouseover()\n",
       "            {\n",
       "                this.style.background = \"steelblue\";\n",
       "                this.style.color = \"white\";\n",
       "            }\n",
       "\n",
       "            function mouseout()\n",
       "            {\n",
       "                this.style.background = \"#eee\";\n",
       "                this.style.color = \"#333\";\n",
       "            }\n",
       "\n",
       "            function choose_item(e)\n",
       "            {\n",
       "                close_menu();\n",
       "                activate();\n",
       "\n",
       "                e.stopPropagation();\n",
       "                e.preventDefault();\n",
       "            }\n",
       "\n",
       "            item.addEventListener(\"mouseover\", mouseover);\n",
       "            item.addEventListener(\"mouseout\", mouseout);\n",
       "            item.addEventListener(\"mouseup\", choose_item);\n",
       "            item.addEventListener(\"contextmenu\", choose_item);\n",
       "\n",
       "            menu.appendChild(item);\n",
       "        };\n",
       "        return module;\n",
       "    })(modules[\"toyplot/root\"],modules[\"toyplot/canvas\"]);\n",
       "modules[\"toyplot/io\"] = (function()\n",
       "    {\n",
       "        var module = {};\n",
       "        module.save_file = function(mime_type, charset, data, filename)\n",
       "        {\n",
       "            var uri = \"data:\" + mime_type + \";charset=\" + charset + \",\" + data;\n",
       "            uri = encodeURI(uri);\n",
       "\n",
       "            var link = document.createElement(\"a\");\n",
       "            if(typeof link.download != \"undefined\")\n",
       "            {\n",
       "              link.href = uri;\n",
       "              link.style = \"visibility:hidden\";\n",
       "              link.download = filename;\n",
       "\n",
       "              document.body.appendChild(link);\n",
       "              link.click();\n",
       "              document.body.removeChild(link);\n",
       "            }\n",
       "            else\n",
       "            {\n",
       "              window.open(uri);\n",
       "            }\n",
       "        };\n",
       "        return module;\n",
       "    })();\n",
       "(function(tables, context_menu, io, owner_id, key, label, names, columns, filename)\n",
       "        {\n",
       "            tables.set(owner_id, key, names, columns);\n",
       "\n",
       "            var owner = document.querySelector(\"#\" + owner_id);\n",
       "            function show_item(e)\n",
       "            {\n",
       "                return owner.contains(e.target);\n",
       "            }\n",
       "\n",
       "            function choose_item()\n",
       "            {\n",
       "                io.save_file(\"text/csv\", \"utf-8\", tables.get_csv(owner_id, key), filename + \".csv\");\n",
       "            }\n",
       "\n",
       "            context_menu.add_item(\"Save \" + label + \" as CSV\", show_item, choose_item);\n",
       "        })(modules[\"toyplot/tables\"],modules[\"toyplot/menus/context\"],modules[\"toyplot/io\"],\"t0f9c4758ef294997aabf808885778a85\",\"data\",\"table data\",[null, null, null, null, null, null, null, null, null, null, null, null, null, null, null, null, null, null, null, null],[[null, null, null, null, null, null, null, null, null, null, null, null, null, null, null, null, null, null, null], [null, \"0\", \"1\", \"2\", \"3\", \"4\", \"5\", \"6\", \"7\", \"8\", \"9\", \"10\", \"11\", \"12\", \"13\", \"14\", \"15\", null, null], [\"0\", 0.42307692766189575, 0.14102564752101898, 0.23076923191547394, 0.14102564752101898, 0.41025641560554504, 0.025641025975346565, 0.0, 0.0, 0.20512820780277252, 0.0, 0.08974359184503555, 0.0, 0.28205129504203796, 0.0, 0.0, 0.06410256773233414, null, null], [\"1\", 0.19230769574642181, 0.03846153989434242, 0.0, 0.0, 0.012820512987673283, 0.1538461595773697, 0.0, 0.0, 0.0, 0.0, 0.0, 0.0, 0.0, 0.0, 0.0, 0.0, null, null], [\"2\", 0.1794871836900711, 0.0, 0.025641025975346565, 0.0, 0.0, 0.0, 0.0, 0.0, 0.0, 0.0, 0.21794871985912323, 0.0, 0.0, 0.0, 0.0, 0.0, null, null], [\"3\", 0.23076923191547394, 0.0, 0.0, 0.06410256773233414, 0.0, 0.0, 0.0, 0.0, 0.0, 0.0, 0.0, 0.0, 0.012820512987673283, 0.0, 0.0, 0.20512820780277252, null, null], [\"4\", 0.1666666716337204, 0.0, 0.0, 0.0, 0.07692307978868484, 0.14102564752101898, 0.0, 0.0, 0.0, 0.0, 0.0, 0.0, 0.0, 0.0, 0.0, 0.0, null, null], [\"5\", 0.05128205195069313, 0.44871795177459717, 0.0, 0.0, 0.11538461595773697, 0.3589743673801422, 0.1794871836900711, 0.1538461595773697, 0.0, 0.28205129504203796, 0.05128205195069313, 0.0, 0.0, 0.19230769574642181, 0.0, 0.03846153989434242, null, null], [\"6\", 0.0, 0.0, 0.0, 0.0, 0.0, 0.14102564752101898, 0.06410256773233414, 0.0, 0.0, 0.0, 0.19230769574642181, 0.0, 0.0, 0.0, 0.0, 0.0, null, null], [\"7\", 0.0, 0.0, 0.0, 0.0, 0.0, 0.07692307978868484, 0.0, 0.10256410390138626, 0.0, 0.0, 0.0, 0.0, 0.0, 0.025641025975346565, 0.0, 0.20512820780277252, null, null], [\"8\", 0.1538461595773697, 0.0, 0.0, 0.0, 0.0, 0.0, 0.0, 0.0, 0.03846153989434242, 0.0, 0.14102564752101898, 0.0, 0.0, 0.0, 0.0, 0.0, null, null], [\"9\", 0.0, 0.0, 0.0, 0.0, 0.0, 0.25641027092933655, 0.0, 0.0, 0.0, 0.05128205195069313, 0.20512820780277252, 0.0, 0.0, 0.0, 0.0, 0.0, null, null], [\"10\", 0.06410256773233414, 0.0, 0.3076923191547394, 0.0, 0.0, 0.05128205195069313, 0.23076923191547394, 0.0, 0.1794871836900711, 0.05128205195069313, 0.3076923191547394, 0.10256410390138626, 0.0, 0.0, 0.4615384638309479, 0.05128205195069313, null, null], [\"11\", 0.0, 0.0, 0.0, 0.0, 0.0, 0.0, 0.0, 0.0, 0.0, 0.0, 0.26923078298568726, 0.10256410390138626, 0.0, 0.0, 0.0, 0.14102564752101898, null, null], [\"12\", 0.21794871985912323, 0.0, 0.0, 0.0, 0.0, 0.0, 0.0, 0.0, 0.0, 0.0, 0.0, 0.0, 0.08974359184503555, 0.0, 0.0, 0.14102564752101898, null, null], [\"13\", 0.0, 0.0, 0.0, 0.0, 0.0, 0.1794871836900711, 0.0, 0.0, 0.0, 0.0, 0.0, 0.0, 0.0, 0.07692307978868484, 0.0, 0.11538461595773697, null, null], [\"14\", 0.0, 0.0, 0.0, 0.0, 0.0, 0.0, 0.0, 0.0, 0.0, 0.0, 0.12820513546466827, 0.0, 0.0, 0.0, 0.06410256773233414, 0.1666666716337204, null, null], [\"15\", 0.05128205195069313, 0.0, 0.0, 0.3589743673801422, 0.0, 0.05128205195069313, 0.0, 0.3717948794364929, 0.0, 0.0, 0.07692307978868484, 0.26923078298568726, 0.1794871836900711, 0.20512820780277252, 0.14102564752101898, 0.3589743673801422, null, null], [null, null, null, null, null, null, null, null, null, null, null, null, null, null, null, null, null, null, null], [null, null, null, null, null, null, null, null, null, null, null, null, null, null, null, null, null, null, null]],\"toyplot\");\n",
       "})();</script></div></div>"
      ]
     },
     "metadata": {},
     "output_type": "display_data"
    }
   ],
   "source": [
    "import toyplot\n",
    "toyplot.matrix(observed.counts[0][0]);"
   ]
  },
  {
   "cell_type": "markdown",
   "metadata": {},
   "source": [
    "# simulate training data (run previously)"
   ]
  },
  {
   "cell_type": "code",
   "execution_count": 31,
   "metadata": {},
   "outputs": [],
   "source": [
    "@jit\n",
    "def make_data(nruns,tree):\n",
    "    labels = np.zeros((nruns,2),dtype=np.int32)\n",
    "    dat = np.zeros((nruns,5,16,16))\n",
    "    for run in range(nruns):\n",
    "        currtree = _node_slider(tree)\n",
    "        edgedict = get_all_admix_edges(currtree)\n",
    "        edges = edgedict.keys()[np.random.randint(len(edgedict.keys()))]\n",
    "        edges1 = edges\n",
    "        if np.random.randint(2):\n",
    "            edges1 = tuple([edges[1],edges[0]])\n",
    "        ## get observed data w/o migration\n",
    "        start,end = np.sort(np.random.uniform(edgedict[tuple(edges)][0],edgedict[tuple(edges)][1],2))\n",
    "        observed = simcat.Model(\n",
    "            tree=currtree, \n",
    "            admixture_edges=((edges1[0], edges1[1], start, end, np.random.uniform(0,.1))),\n",
    "            theta=0.01,\n",
    "            ntests=1,\n",
    "            debug=False,\n",
    "            nsnps=10000,\n",
    "            )\n",
    "        observed.run()\n",
    "        dat[run,:,:,:] = observed.counts[0]\n",
    "        labels[run,:] = edges1\n",
    "        if (run % 5000 == 0):\n",
    "            print(run)\n",
    "    return([dat,labels])"
   ]
  },
  {
   "cell_type": "code",
   "execution_count": null,
   "metadata": {},
   "outputs": [],
   "source": [
    "dat,labs = make_data(40000,tree)"
   ]
  },
  {
   "cell_type": "code",
   "execution_count": null,
   "metadata": {},
   "outputs": [],
   "source": [
    "strlabs = [str(labs[i][0])+str(labs[i][1]) for i in range(len(labs))]"
   ]
  },
  {
   "cell_type": "code",
   "execution_count": null,
   "metadata": {},
   "outputs": [],
   "source": [
    "db_save1 = h5py.File(\"saved_40000.hdf5\",\"w\")"
   ]
  },
  {
   "cell_type": "code",
   "execution_count": null,
   "metadata": {},
   "outputs": [],
   "source": [
    "db_save1.create_dataset(data=dat,name='counts')\n",
    "db_save1.create_dataset(data=np.array(strlabs),name='source_dest')"
   ]
  },
  {
   "cell_type": "markdown",
   "metadata": {},
   "source": [
    "## Read data:"
   ]
  },
  {
   "cell_type": "code",
   "execution_count": 12,
   "metadata": {},
   "outputs": [],
   "source": [
    "db_save1 = h5py.File(\"saved_10000snp2.hdf5\",\"r+\")\n"
   ]
  },
  {
   "cell_type": "code",
   "execution_count": 13,
   "metadata": {},
   "outputs": [],
   "source": [
    "dat = db_save1['counts'][:20000]\n",
    "flat = [obj.flatten() for obj in dat]\n",
    "strlabs = db_save1['source_dest'][:20000]"
   ]
  },
  {
   "cell_type": "markdown",
   "metadata": {},
   "source": [
    "# Optimize random forest"
   ]
  },
  {
   "cell_type": "code",
   "execution_count": 16,
   "metadata": {},
   "outputs": [
    {
     "name": "stdout",
     "output_type": "stream",
     "text": [
      "0.71\n",
      "0.714\n",
      "0.73\n",
      "0.738\n",
      "0.738\n",
      "0.732\n",
      "0.734\n"
     ]
    }
   ],
   "source": [
    "from sklearn.ensemble import RandomForestClassifier\n",
    "from sklearn.metrics import accuracy_score\n",
    "\n",
    "for num_estimators in [50,100,150,200,250,300,350]:\n",
    "    random_forest = RandomForestClassifier(n_estimators=num_estimators,max_depth=None, random_state=1)\n",
    "\n",
    "    random_forest.fit(flat[:19500], strlabs[:19500])\n",
    "\n",
    "    y_predict = random_forest.predict(flat[19500:])\n",
    "    print(accuracy_score(strlabs[19500:], y_predict))"
   ]
  },
  {
   "cell_type": "markdown",
   "metadata": {},
   "source": [
    "So the model with 200 estimators will be used."
   ]
  },
  {
   "cell_type": "code",
   "execution_count": 63,
   "metadata": {},
   "outputs": [
    {
     "data": {
      "text/plain": [
       "RandomForestClassifier(bootstrap=True, class_weight=None, criterion='gini',\n",
       "            max_depth=None, max_features='auto', max_leaf_nodes=None,\n",
       "            min_impurity_decrease=0.0, min_impurity_split=None,\n",
       "            min_samples_leaf=1, min_samples_split=2,\n",
       "            min_weight_fraction_leaf=0.0, n_estimators=200, n_jobs=1,\n",
       "            oob_score=False, random_state=1, verbose=0, warm_start=False)"
      ]
     },
     "execution_count": 63,
     "metadata": {},
     "output_type": "execute_result"
    }
   ],
   "source": [
    "random_forest = RandomForestClassifier(n_estimators=200,max_depth=None, random_state=1)\n",
    "random_forest.fit(flat[:19500], strlabs[:19500])"
   ]
  },
  {
   "cell_type": "markdown",
   "metadata": {},
   "source": [
    "# Neural Network Training (run previously)"
   ]
  },
  {
   "cell_type": "markdown",
   "metadata": {},
   "source": [
    "Adapted from Tensorflow website, https://www.tensorflow.org/tutorials/layers"
   ]
  },
  {
   "cell_type": "code",
   "execution_count": null,
   "metadata": {},
   "outputs": [],
   "source": [
    "from __future__ import absolute_import\n",
    "from __future__ import division\n",
    "from __future__ import print_function\n",
    "\n",
    "import numpy as np\n",
    "import tensorflow as tf\n",
    "\n",
    "tf.logging.set_verbosity(tf.logging.INFO)\n",
    "\n",
    "\n",
    "def cnn_model_fn(features, labels, mode):\n",
    "    \"\"\"Model function for CNN.\"\"\"\n",
    "    # Input Layer\n",
    "    # Reshape X to 4-D tensor: [batch_size, width, height, channels]\n",
    "    # MNIST images are 28x28 pixels, and have one color channel\n",
    "    input_layer = tf.reshape(features['x'], [-1, 16, 16, 5])\n",
    "\n",
    "    # Convolutional Layer #1\n",
    "    # Computes 32 features using a 5x5 filter with ReLU activation.\n",
    "    # Padding is added to preserve width and height.\n",
    "    # Input Tensor Shape: [batch_size, 28, 28, 1]\n",
    "    # Output Tensor Shape: [batch_size, 28, 28, 32]\n",
    "    conv1 = tf.layers.conv2d(\n",
    "      inputs=input_layer,\n",
    "      filters=32,\n",
    "      kernel_size=[5, 5],\n",
    "      padding=\"same\",\n",
    "      activation=tf.nn.relu)\n",
    "\n",
    "    # Pooling Layer #1\n",
    "    # First max pooling layer with a 2x2 filter and stride of 2\n",
    "    # Input Tensor Shape: [batch_size, 16, 16, 32]\n",
    "    # Output Tensor Shape: [batch_size, 8, 8, 32]\n",
    "    pool1 = tf.layers.max_pooling2d(inputs=conv1, pool_size=[2, 2], strides=2)\n",
    "\n",
    "    # Convolutional Layer #2\n",
    "    # Computes 64 features using a 5x5 filter.\n",
    "    # Padding is added to preserve width and height.\n",
    "    # Input Tensor Shape: [batch_size, 14, 14, 32]\n",
    "    # Output Tensor Shape: [batch_size, 14, 14, 64]\n",
    "    conv2 = tf.layers.conv2d(\n",
    "      inputs=pool1,\n",
    "      filters=64,\n",
    "      kernel_size=[5, 5],\n",
    "      padding=\"same\",\n",
    "      activation=tf.nn.relu)\n",
    "\n",
    "    # Pooling Layer #2\n",
    "    # Second max pooling layer with a 2x2 filter and stride of 2\n",
    "    # Input Tensor Shape: [batch_size, 8, 8, 64]\n",
    "    # Output Tensor Shape: [batch_size, 4, 4, 64]\n",
    "    pool2 = tf.layers.max_pooling2d(inputs=conv2, pool_size=[2, 2], strides=2)\n",
    "\n",
    "    # Flatten tensor into a batch of vectors\n",
    "    # Input Tensor Shape: [batch_size, 4, 4, 64]\n",
    "    # Output Tensor Shape: [batch_size, 4 * 4 * 64]\n",
    "    pool2_flat = tf.reshape(pool2, [-1, 4 * 4 * 64])\n",
    "\n",
    "    # Dense Layer\n",
    "    # Densely connected layer with 1024 neurons\n",
    "    # Input Tensor Shape: [batch_size, 7 * 7 * 64]\n",
    "    # Output Tensor Shape: [batch_size, 1024]\n",
    "    dense = tf.layers.dense(inputs=pool2_flat, units=1024, activation=tf.nn.relu)\n",
    "\n",
    "    # Add dropout operation; 0.6 probability that element will be kept\n",
    "    dropout = tf.layers.dropout(\n",
    "      inputs=dense, rate=0.4, training=mode == tf.estimator.ModeKeys.TRAIN)\n",
    "\n",
    "    # Logits layer\n",
    "    # Input Tensor Shape: [batch_size, 1024]\n",
    "    # Output Tensor Shape: [batch_size, 40]\n",
    "    logits = tf.layers.dense(inputs=dropout, units=40)\n",
    "\n",
    "    predictions = {\n",
    "      # Generate predictions (for PREDICT and EVAL mode)\n",
    "      \"classes\": tf.argmax(input=logits, axis=1),\n",
    "      # Add `softmax_tensor` to the graph. It is used for PREDICT and by the\n",
    "      # `logging_hook`.\n",
    "      \"probabilities\": tf.nn.softmax(logits, name=\"softmax_tensor\")\n",
    "    }\n",
    "    if mode == tf.estimator.ModeKeys.PREDICT:\n",
    "        return tf.estimator.EstimatorSpec(mode=mode, predictions=predictions)\n",
    "\n",
    "    # Calculate Loss (for both TRAIN and EVAL modes)\n",
    "    loss = tf.losses.sparse_softmax_cross_entropy(labels=labels, logits=logits)\n",
    "\n",
    "    # Configure the Training Op (for TRAIN mode)\n",
    "    if mode == tf.estimator.ModeKeys.TRAIN:\n",
    "        optimizer = tf.train.GradientDescentOptimizer(learning_rate=0.001)\n",
    "        train_op = optimizer.minimize(\n",
    "            loss=loss,\n",
    "            global_step=tf.train.get_global_step())\n",
    "        return tf.estimator.EstimatorSpec(mode=mode, loss=loss, train_op=train_op)\n",
    "\n",
    "    # Add evaluation metrics (for EVAL mode)\n",
    "    eval_metric_ops = {\n",
    "      \"accuracy\": tf.metrics.accuracy(\n",
    "          labels=labels, predictions=predictions[\"classes\"])}\n",
    "    return tf.estimator.EstimatorSpec(\n",
    "      mode=mode, loss=loss, eval_metric_ops=eval_metric_ops)\n",
    "\n",
    "\n",
    "def main(dataset,labels):\n",
    "    # Load training and eval data\n",
    "    #mnist = tf.contrib.learn.datasets.load_dataset(\"mnist\")\n",
    "    train_data = dataset[:19500]  # Returns np.array\n",
    "    train_labels = labels[:19500]\n",
    "    eval_data = dataset[19500:] # Returns np.array\n",
    "    eval_labels = labels[19500:]\n",
    "\n",
    "    # Create the Estimator\n",
    "    mnist_classifier = tf.estimator.Estimator(\n",
    "      model_fn=cnn_model_fn, model_dir=\"./tensorflow/modeltest1\")\n",
    "\n",
    "    # Set up logging for predictions\n",
    "    # Log the values in the \"Softmax\" tensor with label \"probabilities\"\n",
    "    tensors_to_log = {\"probabilities\": \"softmax_tensor\"}\n",
    "    logging_hook = tf.train.LoggingTensorHook(\n",
    "      tensors=tensors_to_log, every_n_iter=50)\n",
    "\n",
    "    # Train the model\n",
    "    train_input_fn = tf.estimator.inputs.numpy_input_fn(\n",
    "      x={\"x\": train_data},\n",
    "      y=train_labels,\n",
    "      batch_size=100,\n",
    "      num_epochs=None,\n",
    "      shuffle=True)\n",
    "    mnist_classifier.train(\n",
    "      input_fn=train_input_fn,\n",
    "      steps=20000,\n",
    "      hooks=[logging_hook])\n",
    "\n",
    "    # Evaluate the model and print results\n",
    "    eval_input_fn = tf.estimator.inputs.numpy_input_fn(\n",
    "      x={\"x\": eval_data},\n",
    "      y=eval_labels,\n",
    "      num_epochs=1,\n",
    "      shuffle=False)\n",
    "    eval_results = mnist_classifier.evaluate(input_fn=eval_input_fn)\n",
    "    print(eval_results)\n"
   ]
  },
  {
   "cell_type": "code",
   "execution_count": 23,
   "metadata": {},
   "outputs": [],
   "source": [
    "from sklearn.preprocessing import LabelEncoder\n",
    "unique_classes=np.unique(strlabs)\n",
    "num_classes = len(unique_classes)\n",
    "label_encoder = LabelEncoder()\n",
    "integer_encoded = label_encoder.fit_transform(strlabs)"
   ]
  },
  {
   "cell_type": "markdown",
   "metadata": {},
   "source": [
    "### Runs the neural network for 20000 steps:"
   ]
  },
  {
   "cell_type": "code",
   "execution_count": null,
   "metadata": {},
   "outputs": [],
   "source": [
    "mod = main(np.array(dat).astype(np.float32), integer_encoded)"
   ]
  },
  {
   "cell_type": "markdown",
   "metadata": {},
   "source": [
    "# Now load the model back up and make predictions:"
   ]
  },
  {
   "cell_type": "markdown",
   "metadata": {},
   "source": [
    "Redefine, now to generate predictions:"
   ]
  },
  {
   "cell_type": "code",
   "execution_count": 17,
   "metadata": {},
   "outputs": [],
   "source": [
    "def cnn_model_fn_pred(features,mode):\n",
    "    \"\"\"Model function for CNN.\"\"\"\n",
    "    # Input Layer\n",
    "    # Reshape X to 4-D tensor: [batch_size, width, height, channels]\n",
    "    # MNIST images are 28x28 pixels, and have one color channel\n",
    "    input_layer = tf.reshape(features['x'], [-1, 16, 16, 5])\n",
    "\n",
    "    # Convolutional Layer #1\n",
    "    # Computes 32 features using a 5x5 filter with ReLU activation.\n",
    "    # Padding is added to preserve width and height.\n",
    "    # Input Tensor Shape: [batch_size, 28, 28, 1]\n",
    "    # Output Tensor Shape: [batch_size, 28, 28, 32]\n",
    "    conv1 = tf.layers.conv2d(\n",
    "      inputs=input_layer,\n",
    "      filters=32,\n",
    "      kernel_size=[5, 5],\n",
    "      padding=\"same\",\n",
    "      activation=tf.nn.relu)\n",
    "\n",
    "    # Pooling Layer #1\n",
    "    # First max pooling layer with a 2x2 filter and stride of 2\n",
    "    # Input Tensor Shape: [batch_size, 16, 16, 32]\n",
    "    # Output Tensor Shape: [batch_size, 8, 8, 32]\n",
    "    pool1 = tf.layers.max_pooling2d(inputs=conv1, pool_size=[2, 2], strides=2)\n",
    "\n",
    "    # Convolutional Layer #2\n",
    "    # Computes 64 features using a 5x5 filter.\n",
    "    # Padding is added to preserve width and height.\n",
    "    # Input Tensor Shape: [batch_size, 14, 14, 32]\n",
    "    # Output Tensor Shape: [batch_size, 14, 14, 64]\n",
    "    conv2 = tf.layers.conv2d(\n",
    "      inputs=pool1,\n",
    "      filters=64,\n",
    "      kernel_size=[5, 5],\n",
    "      padding=\"same\",\n",
    "      activation=tf.nn.relu)\n",
    "\n",
    "    # Pooling Layer #2\n",
    "    # Second max pooling layer with a 2x2 filter and stride of 2\n",
    "    # Input Tensor Shape: [batch_size, 8, 8, 64]\n",
    "    # Output Tensor Shape: [batch_size, 4, 4, 64]\n",
    "    pool2 = tf.layers.max_pooling2d(inputs=conv2, pool_size=[2, 2], strides=2)\n",
    "\n",
    "    # Flatten tensor into a batch of vectors\n",
    "    # Input Tensor Shape: [batch_size, 4, 4, 64]\n",
    "    # Output Tensor Shape: [batch_size, 4 * 4 * 64]\n",
    "    pool2_flat = tf.reshape(pool2, [-1, 4 * 4 * 64])\n",
    "\n",
    "    # Dense Layer\n",
    "    # Densely connected layer with 1024 neurons\n",
    "    # Input Tensor Shape: [batch_size, 7 * 7 * 64]\n",
    "    # Output Tensor Shape: [batch_size, 1024]\n",
    "    dense = tf.layers.dense(inputs=pool2_flat, units=1024, activation=tf.nn.relu)\n",
    "\n",
    "    # Add dropout operation; 0.6 probability that element will be kept\n",
    "    dropout = tf.layers.dropout(\n",
    "      inputs=dense, rate=0.4, training=False)\n",
    "\n",
    "    # Logits layer\n",
    "    # Input Tensor Shape: [batch_size, 1024]\n",
    "    # Output Tensor Shape: [batch_size, 40]\n",
    "    logits = tf.layers.dense(inputs=dropout, units=40)\n",
    "    predictions = {\n",
    "      # Generate predictions (for PREDICT and EVAL mode)\n",
    "      \"classes\": tf.argmax(input=logits, axis=1),\n",
    "      # Add `softmax_tensor` to the graph. It is used for PREDICT and by the\n",
    "      # `logging_hook`.\n",
    "      \"probabilities\": tf.nn.softmax(logits, name=\"softmax_tensor\")\n",
    "    }\n",
    "    return tf.estimator.EstimatorSpec(mode=tf.estimator.ModeKeys.PREDICT, predictions=predictions)"
   ]
  },
  {
   "cell_type": "code",
   "execution_count": 20,
   "metadata": {},
   "outputs": [
    {
     "name": "stdout",
     "output_type": "stream",
     "text": [
      "INFO:tensorflow:Using default config.\n",
      "INFO:tensorflow:Using config: {'_save_checkpoints_secs': 600, '_session_config': None, '_keep_checkpoint_max': 5, '_tf_random_seed': 1, '_keep_checkpoint_every_n_hours': 10000, '_log_step_count_steps': 100, '_save_checkpoints_steps': None, '_model_dir': './tensorflow/modeltest1', '_save_summary_steps': 100}\n"
     ]
    }
   ],
   "source": [
    "mnist_classifier = tf.estimator.Estimator(\n",
    "model_fn=cnn_model_fn_pred, model_dir=\"./tensorflow/modeltest1\")"
   ]
  },
  {
   "cell_type": "code",
   "execution_count": 21,
   "metadata": {},
   "outputs": [
    {
     "name": "stdout",
     "output_type": "stream",
     "text": [
      "INFO:tensorflow:Restoring parameters from ./tensorflow/modeltest1/model.ckpt-80000\n"
     ]
    }
   ],
   "source": [
    "predict_input_fn = tf.estimator.inputs.numpy_input_fn(\n",
    "    x={\"x\": dat[19500:].astype(np.float32)},\n",
    "    num_epochs=1,\n",
    "    shuffle=False)\n",
    "cnn_predictions = list(mnist_classifier.predict(input_fn=predict_input_fn))"
   ]
  },
  {
   "cell_type": "code",
   "execution_count": 24,
   "metadata": {},
   "outputs": [],
   "source": [
    "int_cnn_preds= [i['classes'] for i in cnn_predictions]\n",
    "cnn_predict= np.array([label_encoder.classes_[i] for i in int_cnn_preds])"
   ]
  },
  {
   "cell_type": "markdown",
   "metadata": {},
   "source": [
    "### Get cnn score on the 500 test values:"
   ]
  },
  {
   "cell_type": "code",
   "execution_count": 28,
   "metadata": {},
   "outputs": [
    {
     "data": {
      "text/plain": [
       "0.704"
      ]
     },
     "execution_count": 28,
     "metadata": {},
     "output_type": "execute_result"
    }
   ],
   "source": [
    "float(sum(cnn_predict == strlabs[19500:]))/500"
   ]
  },
  {
   "cell_type": "markdown",
   "metadata": {},
   "source": [
    "# Now test under short introgression lengths"
   ]
  },
  {
   "cell_type": "code",
   "execution_count": 81,
   "metadata": {},
   "outputs": [],
   "source": [
    "@jit\n",
    "def make_data(nruns,tree):\n",
    "    labels = np.zeros((nruns,2),dtype=np.int32)\n",
    "    dat = np.zeros((nruns,5,16,16))\n",
    "    for run in range(nruns):\n",
    "        currtree = _node_slider(tree)\n",
    "        edgedict = get_all_admix_edges(currtree)\n",
    "        vals=edgedict.values()\n",
    "        #print(max([i[1]-i[0] for i in vals]))\n",
    "        #edges = edgedict.keys()[np.argmin([i[1]-i[0] for i in vals])]\n",
    "        edges = edgedict.keys()[np.random.randint(len(edgedict.keys()))]\n",
    "        edges1 = edges\n",
    "        if np.random.randint(2):\n",
    "            edges1 = tuple([edges[1],edges[0]])\n",
    "        # get observed data without migration\n",
    "        start,end = np.sort(np.random.uniform(edgedict[tuple(edges)][0],edgedict[tuple(edges)][1],2))\n",
    "        # adjust to make shorter length\n",
    "        if (end-start) > .03:\n",
    "            end = start +.03\n",
    "        observed = simcat.Model(\n",
    "            tree=currtree, \n",
    "            admixture_edges=((edges1[0], edges1[1], start, end, np.random.uniform(0,.1))),\n",
    "            theta=0.01,\n",
    "            ntests=1,\n",
    "            debug=False,\n",
    "            nsnps=10000,\n",
    "            )\n",
    "        observed.run()\n",
    "        dat[run,:,:,:] = observed.counts[0]\n",
    "        labels[run,:] = edges1\n",
    "        if (run % 100 == 0):\n",
    "            print(run)\n",
    "    return([dat,labels])"
   ]
  },
  {
   "cell_type": "markdown",
   "metadata": {},
   "source": [
    "Now create 500 samples with short periods of introgression:"
   ]
  },
  {
   "cell_type": "code",
   "execution_count": 82,
   "metadata": {},
   "outputs": [
    {
     "name": "stdout",
     "output_type": "stream",
     "text": [
      "0\n",
      "\n",
      "100\n",
      "\n",
      "200\n",
      "\n",
      "300\n",
      "\n",
      "400\n",
      "\n"
     ]
    }
   ],
   "source": [
    "shortintro_dat, shortintro_labs = make_data(500,tree)"
   ]
  },
  {
   "cell_type": "code",
   "execution_count": 83,
   "metadata": {},
   "outputs": [],
   "source": [
    "strlabs_short = [str(shortintro_labs[i][0])+str(shortintro_labs[i][1]) for i in range(len(shortintro_labs))]\n",
    "flat_short = [obj.flatten() for obj in shortintro_dat]"
   ]
  },
  {
   "cell_type": "markdown",
   "metadata": {},
   "source": [
    "The random forest performs well here"
   ]
  },
  {
   "cell_type": "code",
   "execution_count": 84,
   "metadata": {},
   "outputs": [
    {
     "name": "stdout",
     "output_type": "stream",
     "text": [
      "0.762\n"
     ]
    }
   ],
   "source": [
    "y_predict = random_forest.predict(flat_short)\n",
    "accuracy_score(strlabs_short, y_predict)"
   ]
  },
  {
   "cell_type": "markdown",
   "metadata": {},
   "source": [
    "The cnn performs poorly here"
   ]
  },
  {
   "cell_type": "code",
   "execution_count": 85,
   "metadata": {},
   "outputs": [
    {
     "name": "stdout",
     "output_type": "stream",
     "text": [
      "INFO:tensorflow:Restoring parameters from ./tensorflow/modeltest1/model.ckpt-80000\n"
     ]
    },
    {
     "data": {
      "text/plain": [
       "0.684"
      ]
     },
     "execution_count": 85,
     "metadata": {},
     "output_type": "execute_result"
    }
   ],
   "source": [
    "predict_input_fn = tf.estimator.inputs.numpy_input_fn(\n",
    "    x={\"x\": shortintro_dat.astype(np.float32)},\n",
    "    num_epochs=1,\n",
    "    shuffle=False)\n",
    "cnn_predictions = list(mnist_classifier.predict(input_fn=predict_input_fn))\n",
    "int_cnn_preds= [i['classes'] for i in cnn_predictions]\n",
    "cnn_predict= np.array([label_encoder.classes_[i] for i in int_cnn_preds])\n",
    "float(sum(cnn_predict == strlabs_short))/500"
   ]
  },
  {
   "cell_type": "markdown",
   "metadata": {},
   "source": [
    "# Now run it without regard to direction:"
   ]
  },
  {
   "cell_type": "markdown",
   "metadata": {},
   "source": [
    "By definition this can only increase the scores"
   ]
  },
  {
   "cell_type": "code",
   "execution_count": 86,
   "metadata": {},
   "outputs": [],
   "source": [
    "sorted_strlabs = np.array([''.join(sorted(strlab)) for strlab in strlabs])\n",
    "sorted_strlabs_short = np.array([''.join(sorted(strlab)) for strlab in strlabs_short])"
   ]
  },
  {
   "cell_type": "markdown",
   "metadata": {},
   "source": [
    "Scoring without regard for direction with random forest:"
   ]
  },
  {
   "cell_type": "code",
   "execution_count": 87,
   "metadata": {},
   "outputs": [
    {
     "data": {
      "text/plain": [
       "0.856"
      ]
     },
     "execution_count": 87,
     "metadata": {},
     "output_type": "execute_result"
    }
   ],
   "source": [
    "y_predict_sorted = np.array([''.join(sorted(strlab)) for strlab in y_predict])\n",
    "accuracy_score(sorted_strlabs_short, y_predict_sorted)"
   ]
  },
  {
   "cell_type": "markdown",
   "metadata": {},
   "source": [
    "Scoring without direction for CNN:"
   ]
  },
  {
   "cell_type": "code",
   "execution_count": 88,
   "metadata": {},
   "outputs": [
    {
     "data": {
      "text/plain": [
       "0.812"
      ]
     },
     "execution_count": 88,
     "metadata": {},
     "output_type": "execute_result"
    }
   ],
   "source": [
    "cnn_predict_sorted = np.array([''.join(sorted(strlab)) for strlab in cnn_predict])\n",
    "float(sum(cnn_predict_sorted == sorted_strlabs_short))/500"
   ]
  }
 ],
 "metadata": {
  "kernelspec": {
   "display_name": "Python 2",
   "language": "python",
   "name": "python2"
  },
  "language_info": {
   "codemirror_mode": {
    "name": "ipython",
    "version": 2
   },
   "file_extension": ".py",
   "mimetype": "text/x-python",
   "name": "python",
   "nbconvert_exporter": "python",
   "pygments_lexer": "ipython2",
   "version": "2.7.11"
  }
 },
 "nbformat": 4,
 "nbformat_minor": 2
}
